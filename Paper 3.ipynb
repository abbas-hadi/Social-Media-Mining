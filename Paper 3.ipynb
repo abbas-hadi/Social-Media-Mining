{
 "cells": [
  {
   "cell_type": "code",
   "execution_count": 2,
   "id": "71c3bdd2",
   "metadata": {},
   "outputs": [],
   "source": [
    "#!pip install -q snscrape"
   ]
  },
  {
   "cell_type": "code",
   "execution_count": 31,
   "id": "96f6c346",
   "metadata": {},
   "outputs": [],
   "source": [
    "import os\n",
    "import pandas as pd\n",
    "from datetime import date\n",
    "import numpy as np"
   ]
  },
  {
   "cell_type": "code",
   "execution_count": 4,
   "id": "85052ad9",
   "metadata": {},
   "outputs": [
    {
     "name": "stdout",
     "output_type": "stream",
     "text": [
      "2022-04-30\n"
     ]
    }
   ],
   "source": [
    "#today = date.today()\n",
    "#end_date = today\n",
    "#print(end_date)"
   ]
  },
  {
   "cell_type": "code",
   "execution_count": 5,
   "id": "5132113f",
   "metadata": {},
   "outputs": [],
   "source": [
    "#search_term = \"Imran Khan\"\n",
    "#from_date = \"2022-03-08\""
   ]
  },
  {
   "cell_type": "code",
   "execution_count": 9,
   "id": "1c065c08",
   "metadata": {},
   "outputs": [
    {
     "data": {
      "text/plain": [
       "2"
      ]
     },
     "execution_count": 9,
     "metadata": {},
     "output_type": "execute_result"
    }
   ],
   "source": [
    "#os.system(\"snscrape --jsonl --max-results 500 --since 2022-03-08 twitter-search 'imran khan until:2020-04-24' > text-query-tweets.json\")\n"
   ]
  },
  {
   "cell_type": "code",
   "execution_count": 10,
   "id": "72e1c72f",
   "metadata": {},
   "outputs": [],
   "source": [
    "#tweets_df = pd.read_json('text-query-tweets.json', lines=True)"
   ]
  },
  {
   "cell_type": "code",
   "execution_count": 13,
   "id": "6eba0004",
   "metadata": {},
   "outputs": [],
   "source": [
    "#import snscrape.modules.twitter as sntwitter\n",
    "#import pandas as pd\n",
    "\n",
    "# Creating list to append tweet data to\n",
    "#tweets_list2 = []\n",
    "\n",
    "# Using TwitterSearchScraper to scrape data and append tweets to list\n",
    "#for i,tweet in enumerate(sntwitter.TwitterSearchScraper('imran khan since:2022-03-08 until:2022-04-24').get_items()):\n",
    "#    if i>1000:\n",
    "#        break\n",
    "#    tweets_list2.append([tweet.date, tweet.id, tweet.content, tweet.user.username])\n",
    "    \n",
    "# Creating a dataframe from the tweets list above\n",
    "#tweets_df2 = pd.DataFrame(tweets_list2, columns=['Datetime', 'Tweet Id', 'Text', 'Username'])"
   ]
  },
  {
   "cell_type": "code",
   "execution_count": 14,
   "id": "a1e04eed",
   "metadata": {},
   "outputs": [
    {
     "data": {
      "text/plain": [
       "<bound method NDFrame.head of                       Datetime             Tweet Id  \\\n",
       "0    2022-04-23 23:59:56+00:00  1518016855503478789   \n",
       "1    2022-04-23 23:59:55+00:00  1518016853515382784   \n",
       "2    2022-04-23 23:59:55+00:00  1518016852068384770   \n",
       "3    2022-04-23 23:59:53+00:00  1518016843654615041   \n",
       "4    2022-04-23 23:59:53+00:00  1518016843230887937   \n",
       "...                        ...                  ...   \n",
       "996  2022-04-23 23:36:19+00:00  1518010913294479360   \n",
       "997  2022-04-23 23:36:19+00:00  1518010911323488256   \n",
       "998  2022-04-23 23:36:18+00:00  1518010906659016704   \n",
       "999  2022-04-23 23:36:17+00:00  1518010904784392194   \n",
       "1000 2022-04-23 23:36:17+00:00  1518010902636863491   \n",
       "\n",
       "                                                   Text         Username  \n",
       "0                 @IImranRiazKhan I love you imran khan  usmanshafique78  \n",
       "1     One word for him ?\\n#ImranKhan\\n#MarchAgainstI...         Niha_PTI  \n",
       "2     #Shame on Noon toons and the other Goons.\\nYou...   strangerslight  \n",
       "3                            @Imran_Riaz_Khan انشاءاللہ  sikandar_pahore  \n",
       "4                                  @ImranKhanPTI G boss  SyedSha10439598  \n",
       "...                                                 ...              ...  \n",
       "996   #MarchAgainstImportedGovt  #بھاڑ_میں_جاؤ_امریک...      mrsameerbiz  \n",
       "997             Pm Imran khan #MarchAgainstImportedGovt   MahinRashid321  \n",
       "998   @MaryamNSharif Imran khan ko choro parachinar ...  WaseemA68500399  \n",
       "999   Looks like the reports were correct. Pakistani...        ik_stan22  \n",
       "1000  “They plan, and Allah plans. Surely, Allah is ...       MAhmedbaig  \n",
       "\n",
       "[1001 rows x 4 columns]>"
      ]
     },
     "execution_count": 14,
     "metadata": {},
     "output_type": "execute_result"
    }
   ],
   "source": [
    "#tweets_df2.head"
   ]
  },
  {
   "cell_type": "code",
   "execution_count": 16,
   "id": "37f1263f",
   "metadata": {},
   "outputs": [
    {
     "data": {
      "text/html": [
       "<div>\n",
       "<style scoped>\n",
       "    .dataframe tbody tr th:only-of-type {\n",
       "        vertical-align: middle;\n",
       "    }\n",
       "\n",
       "    .dataframe tbody tr th {\n",
       "        vertical-align: top;\n",
       "    }\n",
       "\n",
       "    .dataframe thead th {\n",
       "        text-align: right;\n",
       "    }\n",
       "</style>\n",
       "<table border=\"1\" class=\"dataframe\">\n",
       "  <thead>\n",
       "    <tr style=\"text-align: right;\">\n",
       "      <th></th>\n",
       "      <th>Datetime</th>\n",
       "      <th>Tweet Id</th>\n",
       "      <th>Text</th>\n",
       "      <th>Username</th>\n",
       "    </tr>\n",
       "  </thead>\n",
       "  <tbody>\n",
       "    <tr>\n",
       "      <th>0</th>\n",
       "      <td>2022-04-23 23:59:56+00:00</td>\n",
       "      <td>1518016855503478789</td>\n",
       "      <td>@IImranRiazKhan I love you imran khan</td>\n",
       "      <td>usmanshafique78</td>\n",
       "    </tr>\n",
       "    <tr>\n",
       "      <th>1</th>\n",
       "      <td>2022-04-23 23:59:55+00:00</td>\n",
       "      <td>1518016853515382784</td>\n",
       "      <td>One word for him ?\\n#ImranKhan\\n#MarchAgainstI...</td>\n",
       "      <td>Niha_PTI</td>\n",
       "    </tr>\n",
       "    <tr>\n",
       "      <th>2</th>\n",
       "      <td>2022-04-23 23:59:55+00:00</td>\n",
       "      <td>1518016852068384770</td>\n",
       "      <td>#Shame on Noon toons and the other Goons.\\nYou...</td>\n",
       "      <td>strangerslight</td>\n",
       "    </tr>\n",
       "    <tr>\n",
       "      <th>3</th>\n",
       "      <td>2022-04-23 23:59:53+00:00</td>\n",
       "      <td>1518016843654615041</td>\n",
       "      <td>@Imran_Riaz_Khan انشاءاللہ</td>\n",
       "      <td>sikandar_pahore</td>\n",
       "    </tr>\n",
       "    <tr>\n",
       "      <th>4</th>\n",
       "      <td>2022-04-23 23:59:53+00:00</td>\n",
       "      <td>1518016843230887937</td>\n",
       "      <td>@ImranKhanPTI G boss</td>\n",
       "      <td>SyedSha10439598</td>\n",
       "    </tr>\n",
       "    <tr>\n",
       "      <th>...</th>\n",
       "      <td>...</td>\n",
       "      <td>...</td>\n",
       "      <td>...</td>\n",
       "      <td>...</td>\n",
       "    </tr>\n",
       "    <tr>\n",
       "      <th>996</th>\n",
       "      <td>2022-04-23 23:36:19+00:00</td>\n",
       "      <td>1518010913294479360</td>\n",
       "      <td>#MarchAgainstImportedGovt  #بھاڑ_میں_جاؤ_امریک...</td>\n",
       "      <td>mrsameerbiz</td>\n",
       "    </tr>\n",
       "    <tr>\n",
       "      <th>997</th>\n",
       "      <td>2022-04-23 23:36:19+00:00</td>\n",
       "      <td>1518010911323488256</td>\n",
       "      <td>Pm Imran khan #MarchAgainstImportedGovt</td>\n",
       "      <td>MahinRashid321</td>\n",
       "    </tr>\n",
       "    <tr>\n",
       "      <th>998</th>\n",
       "      <td>2022-04-23 23:36:18+00:00</td>\n",
       "      <td>1518010906659016704</td>\n",
       "      <td>@MaryamNSharif Imran khan ko choro parachinar ...</td>\n",
       "      <td>WaseemA68500399</td>\n",
       "    </tr>\n",
       "    <tr>\n",
       "      <th>999</th>\n",
       "      <td>2022-04-23 23:36:17+00:00</td>\n",
       "      <td>1518010904784392194</td>\n",
       "      <td>Looks like the reports were correct. Pakistani...</td>\n",
       "      <td>ik_stan22</td>\n",
       "    </tr>\n",
       "    <tr>\n",
       "      <th>1000</th>\n",
       "      <td>2022-04-23 23:36:17+00:00</td>\n",
       "      <td>1518010902636863491</td>\n",
       "      <td>“They plan, and Allah plans. Surely, Allah is ...</td>\n",
       "      <td>MAhmedbaig</td>\n",
       "    </tr>\n",
       "  </tbody>\n",
       "</table>\n",
       "<p>1001 rows × 4 columns</p>\n",
       "</div>"
      ],
      "text/plain": [
       "                      Datetime             Tweet Id  \\\n",
       "0    2022-04-23 23:59:56+00:00  1518016855503478789   \n",
       "1    2022-04-23 23:59:55+00:00  1518016853515382784   \n",
       "2    2022-04-23 23:59:55+00:00  1518016852068384770   \n",
       "3    2022-04-23 23:59:53+00:00  1518016843654615041   \n",
       "4    2022-04-23 23:59:53+00:00  1518016843230887937   \n",
       "...                        ...                  ...   \n",
       "996  2022-04-23 23:36:19+00:00  1518010913294479360   \n",
       "997  2022-04-23 23:36:19+00:00  1518010911323488256   \n",
       "998  2022-04-23 23:36:18+00:00  1518010906659016704   \n",
       "999  2022-04-23 23:36:17+00:00  1518010904784392194   \n",
       "1000 2022-04-23 23:36:17+00:00  1518010902636863491   \n",
       "\n",
       "                                                   Text         Username  \n",
       "0                 @IImranRiazKhan I love you imran khan  usmanshafique78  \n",
       "1     One word for him ?\\n#ImranKhan\\n#MarchAgainstI...         Niha_PTI  \n",
       "2     #Shame on Noon toons and the other Goons.\\nYou...   strangerslight  \n",
       "3                            @Imran_Riaz_Khan انشاءاللہ  sikandar_pahore  \n",
       "4                                  @ImranKhanPTI G boss  SyedSha10439598  \n",
       "...                                                 ...              ...  \n",
       "996   #MarchAgainstImportedGovt  #بھاڑ_میں_جاؤ_امریک...      mrsameerbiz  \n",
       "997             Pm Imran khan #MarchAgainstImportedGovt   MahinRashid321  \n",
       "998   @MaryamNSharif Imran khan ko choro parachinar ...  WaseemA68500399  \n",
       "999   Looks like the reports were correct. Pakistani...        ik_stan22  \n",
       "1000  “They plan, and Allah plans. Surely, Allah is ...       MAhmedbaig  \n",
       "\n",
       "[1001 rows x 4 columns]"
      ]
     },
     "execution_count": 16,
     "metadata": {},
     "output_type": "execute_result"
    }
   ],
   "source": [
    "#tweets_df2"
   ]
  },
  {
   "cell_type": "code",
   "execution_count": 11,
   "id": "8c6adc7f",
   "metadata": {},
   "outputs": [],
   "source": [
    "import snscrape.modules.twitter as sntwitter\n",
    "import pandas as pd\n",
    "\n",
    "# Creating list to append tweet data to\n",
    "tweets_list3 = []\n",
    "\n",
    "# Using TwitterSearchScraper to scrape data and append tweets to list\n",
    "for i,tweet in enumerate(sntwitter.TwitterSearchScraper('pakistan since:2022-04-03 until:2022-04-11').get_items()):\n",
    "    if i>999:\n",
    "        break\n",
    "    tweets_list3.append([tweet.date, tweet.id, tweet.content, tweet.user.username])\n",
    "    \n",
    "# Creating a dataframe from the tweets list above\n",
    "tweets_df3 = pd.DataFrame(tweets_list3, columns=['Datetime', 'Tweet Id', 'Text', 'Username'])"
   ]
  },
  {
   "cell_type": "code",
   "execution_count": 12,
   "id": "a011fc7a",
   "metadata": {},
   "outputs": [
    {
     "data": {
      "text/html": [
       "<div>\n",
       "<style scoped>\n",
       "    .dataframe tbody tr th:only-of-type {\n",
       "        vertical-align: middle;\n",
       "    }\n",
       "\n",
       "    .dataframe tbody tr th {\n",
       "        vertical-align: top;\n",
       "    }\n",
       "\n",
       "    .dataframe thead th {\n",
       "        text-align: right;\n",
       "    }\n",
       "</style>\n",
       "<table border=\"1\" class=\"dataframe\">\n",
       "  <thead>\n",
       "    <tr style=\"text-align: right;\">\n",
       "      <th></th>\n",
       "      <th>Datetime</th>\n",
       "      <th>Tweet Id</th>\n",
       "      <th>Text</th>\n",
       "      <th>Username</th>\n",
       "    </tr>\n",
       "  </thead>\n",
       "  <tbody>\n",
       "    <tr>\n",
       "      <th>0</th>\n",
       "      <td>2022-04-10 23:59:59+00:00</td>\n",
       "      <td>1513305827729448961</td>\n",
       "      <td>We highly discourage the baseless trends on Tw...</td>\n",
       "      <td>ISAOfficial10</td>\n",
       "    </tr>\n",
       "    <tr>\n",
       "      <th>1</th>\n",
       "      <td>2022-04-10 23:59:58+00:00</td>\n",
       "      <td>1513305821614153739</td>\n",
       "      <td>May Allah help him the type of Pakistan SS got...</td>\n",
       "      <td>AlishbaSWardag</td>\n",
       "    </tr>\n",
       "    <tr>\n",
       "      <th>2</th>\n",
       "      <td>2022-04-10 23:59:57+00:00</td>\n",
       "      <td>1513305818862608387</td>\n",
       "      <td>@whywouldyou_uk @agentjay2009 @ImranRiazKhan C...</td>\n",
       "      <td>S_Ordibehesht</td>\n",
       "    </tr>\n",
       "    <tr>\n",
       "      <th>3</th>\n",
       "      <td>2022-04-10 23:59:57+00:00</td>\n",
       "      <td>1513305818828996610</td>\n",
       "      <td>@ahsankhan_91 @betterpakistan Whole country is...</td>\n",
       "      <td>ShazaFK</td>\n",
       "    </tr>\n",
       "    <tr>\n",
       "      <th>4</th>\n",
       "      <td>2022-04-10 23:59:54+00:00</td>\n",
       "      <td>1513305804983652357</td>\n",
       "      <td>@ImranKhanPTI Love You khan sab long live Ik l...</td>\n",
       "      <td>JunaidakbarKha5</td>\n",
       "    </tr>\n",
       "    <tr>\n",
       "      <th>...</th>\n",
       "      <td>...</td>\n",
       "      <td>...</td>\n",
       "      <td>...</td>\n",
       "      <td>...</td>\n",
       "    </tr>\n",
       "    <tr>\n",
       "      <th>995</th>\n",
       "      <td>2022-04-10 23:49:44+00:00</td>\n",
       "      <td>1513303248161189897</td>\n",
       "      <td>@ImranKhanPTI Pakistan zinda bad.imran Khan zi...</td>\n",
       "      <td>umar03006380042</td>\n",
       "    </tr>\n",
       "    <tr>\n",
       "      <th>996</th>\n",
       "      <td>2022-04-10 23:49:44+00:00</td>\n",
       "      <td>1513303246299086849</td>\n",
       "      <td>#WeWantImmediateElections. I as a citizen of p...</td>\n",
       "      <td>Sial_Saadi_818</td>\n",
       "    </tr>\n",
       "    <tr>\n",
       "      <th>997</th>\n",
       "      <td>2022-04-10 23:49:44+00:00</td>\n",
       "      <td>1513303245522931715</td>\n",
       "      <td>@AsapTweetme @ImranKhanPTI Here is Pakistan's ...</td>\n",
       "      <td>naeemrehman547</td>\n",
       "    </tr>\n",
       "    <tr>\n",
       "      <th>998</th>\n",
       "      <td>2022-04-10 23:49:43+00:00</td>\n",
       "      <td>1513303240749821952</td>\n",
       "      <td>Pakistan #ImranKhan kaaa. Local mir jafars sun...</td>\n",
       "      <td>iamhamzahamid</td>\n",
       "    </tr>\n",
       "    <tr>\n",
       "      <th>999</th>\n",
       "      <td>2022-04-10 23:49:42+00:00</td>\n",
       "      <td>1513303236748492805</td>\n",
       "      <td>agar ye 2 crore log khareeday huay hotay to pa...</td>\n",
       "      <td>suzyinjacuzzi</td>\n",
       "    </tr>\n",
       "  </tbody>\n",
       "</table>\n",
       "<p>1000 rows × 4 columns</p>\n",
       "</div>"
      ],
      "text/plain": [
       "                     Datetime             Tweet Id  \\\n",
       "0   2022-04-10 23:59:59+00:00  1513305827729448961   \n",
       "1   2022-04-10 23:59:58+00:00  1513305821614153739   \n",
       "2   2022-04-10 23:59:57+00:00  1513305818862608387   \n",
       "3   2022-04-10 23:59:57+00:00  1513305818828996610   \n",
       "4   2022-04-10 23:59:54+00:00  1513305804983652357   \n",
       "..                        ...                  ...   \n",
       "995 2022-04-10 23:49:44+00:00  1513303248161189897   \n",
       "996 2022-04-10 23:49:44+00:00  1513303246299086849   \n",
       "997 2022-04-10 23:49:44+00:00  1513303245522931715   \n",
       "998 2022-04-10 23:49:43+00:00  1513303240749821952   \n",
       "999 2022-04-10 23:49:42+00:00  1513303236748492805   \n",
       "\n",
       "                                                  Text         Username  \n",
       "0    We highly discourage the baseless trends on Tw...    ISAOfficial10  \n",
       "1    May Allah help him the type of Pakistan SS got...   AlishbaSWardag  \n",
       "2    @whywouldyou_uk @agentjay2009 @ImranRiazKhan C...    S_Ordibehesht  \n",
       "3    @ahsankhan_91 @betterpakistan Whole country is...          ShazaFK  \n",
       "4    @ImranKhanPTI Love You khan sab long live Ik l...  JunaidakbarKha5  \n",
       "..                                                 ...              ...  \n",
       "995  @ImranKhanPTI Pakistan zinda bad.imran Khan zi...  umar03006380042  \n",
       "996  #WeWantImmediateElections. I as a citizen of p...   Sial_Saadi_818  \n",
       "997  @AsapTweetme @ImranKhanPTI Here is Pakistan's ...   naeemrehman547  \n",
       "998  Pakistan #ImranKhan kaaa. Local mir jafars sun...    iamhamzahamid  \n",
       "999  agar ye 2 crore log khareeday huay hotay to pa...    suzyinjacuzzi  \n",
       "\n",
       "[1000 rows x 4 columns]"
      ]
     },
     "execution_count": 12,
     "metadata": {},
     "output_type": "execute_result"
    }
   ],
   "source": [
    "tweets_df3"
   ]
  },
  {
   "cell_type": "code",
   "execution_count": 13,
   "id": "c9a84d67",
   "metadata": {},
   "outputs": [],
   "source": [
    "tweets_cleaned = tweets_df3.drop(columns=['Datetime', 'Tweet Id', 'Username'])"
   ]
  },
  {
   "cell_type": "code",
   "execution_count": 14,
   "id": "1d1d759b",
   "metadata": {},
   "outputs": [
    {
     "data": {
      "text/html": [
       "<div>\n",
       "<style scoped>\n",
       "    .dataframe tbody tr th:only-of-type {\n",
       "        vertical-align: middle;\n",
       "    }\n",
       "\n",
       "    .dataframe tbody tr th {\n",
       "        vertical-align: top;\n",
       "    }\n",
       "\n",
       "    .dataframe thead th {\n",
       "        text-align: right;\n",
       "    }\n",
       "</style>\n",
       "<table border=\"1\" class=\"dataframe\">\n",
       "  <thead>\n",
       "    <tr style=\"text-align: right;\">\n",
       "      <th></th>\n",
       "      <th>Text</th>\n",
       "    </tr>\n",
       "  </thead>\n",
       "  <tbody>\n",
       "    <tr>\n",
       "      <th>0</th>\n",
       "      <td>We highly discourage the baseless trends on Tw...</td>\n",
       "    </tr>\n",
       "    <tr>\n",
       "      <th>1</th>\n",
       "      <td>May Allah help him the type of Pakistan SS got...</td>\n",
       "    </tr>\n",
       "    <tr>\n",
       "      <th>2</th>\n",
       "      <td>@whywouldyou_uk @agentjay2009 @ImranRiazKhan C...</td>\n",
       "    </tr>\n",
       "    <tr>\n",
       "      <th>3</th>\n",
       "      <td>@ahsankhan_91 @betterpakistan Whole country is...</td>\n",
       "    </tr>\n",
       "    <tr>\n",
       "      <th>4</th>\n",
       "      <td>@ImranKhanPTI Love You khan sab long live Ik l...</td>\n",
       "    </tr>\n",
       "    <tr>\n",
       "      <th>...</th>\n",
       "      <td>...</td>\n",
       "    </tr>\n",
       "    <tr>\n",
       "      <th>995</th>\n",
       "      <td>@ImranKhanPTI Pakistan zinda bad.imran Khan zi...</td>\n",
       "    </tr>\n",
       "    <tr>\n",
       "      <th>996</th>\n",
       "      <td>#WeWantImmediateElections. I as a citizen of p...</td>\n",
       "    </tr>\n",
       "    <tr>\n",
       "      <th>997</th>\n",
       "      <td>@AsapTweetme @ImranKhanPTI Here is Pakistan's ...</td>\n",
       "    </tr>\n",
       "    <tr>\n",
       "      <th>998</th>\n",
       "      <td>Pakistan #ImranKhan kaaa. Local mir jafars sun...</td>\n",
       "    </tr>\n",
       "    <tr>\n",
       "      <th>999</th>\n",
       "      <td>agar ye 2 crore log khareeday huay hotay to pa...</td>\n",
       "    </tr>\n",
       "  </tbody>\n",
       "</table>\n",
       "<p>1000 rows × 1 columns</p>\n",
       "</div>"
      ],
      "text/plain": [
       "                                                  Text\n",
       "0    We highly discourage the baseless trends on Tw...\n",
       "1    May Allah help him the type of Pakistan SS got...\n",
       "2    @whywouldyou_uk @agentjay2009 @ImranRiazKhan C...\n",
       "3    @ahsankhan_91 @betterpakistan Whole country is...\n",
       "4    @ImranKhanPTI Love You khan sab long live Ik l...\n",
       "..                                                 ...\n",
       "995  @ImranKhanPTI Pakistan zinda bad.imran Khan zi...\n",
       "996  #WeWantImmediateElections. I as a citizen of p...\n",
       "997  @AsapTweetme @ImranKhanPTI Here is Pakistan's ...\n",
       "998  Pakistan #ImranKhan kaaa. Local mir jafars sun...\n",
       "999  agar ye 2 crore log khareeday huay hotay to pa...\n",
       "\n",
       "[1000 rows x 1 columns]"
      ]
     },
     "execution_count": 14,
     "metadata": {},
     "output_type": "execute_result"
    }
   ],
   "source": [
    "tweets_cleaned"
   ]
  },
  {
   "cell_type": "code",
   "execution_count": 15,
   "id": "4ce685f1",
   "metadata": {},
   "outputs": [],
   "source": [
    "import string\n",
    "from nltk.corpus import stopwords\n",
    "\n",
    "stop_words = stopwords.words('english')\n",
    "\n",
    "#add punctuation char's to stopwords list\n",
    "stop_words += list(string.punctuation) # <-- contains !\"#$%&'()*+,-./:;<=>?@[\\]^_`{|}~\n",
    "\n",
    "#add integers and search term variations\n",
    "stop_words += ['0', '1', '2', '3', '4', '5', '6', '7', '8', '9', 'Pakistan', 'pakistan', 'Pakistani', 'pakistani', 'Imran', 'imran', 'Khan', 'khan']"
   ]
  },
  {
   "cell_type": "code",
   "execution_count": 16,
   "id": "d4bab3c3",
   "metadata": {},
   "outputs": [
    {
     "data": {
      "text/plain": [
       "0      [highly, discourage, baseless, trends, twitter...\n",
       "1      [may, allah, help, type, ss, got, may, allah, ...\n",
       "2      [whywouldyou_uk, agentjay2009, imranriazkhan, ...\n",
       "3      [ahsankhan_91, betterpakistan, whole, country,...\n",
       "4      [imrankhanpti, love, sab, long, live, ik, long...\n",
       "                             ...                        \n",
       "995         [imrankhanpti, zinda, bad.imran, zinda, bad]\n",
       "996    [wewantimmediateelections, citizen, want, imme...\n",
       "997    [asaptweetme, imrankhanpti, 's, decision, '', ...\n",
       "998    [imrankhan, kaaa, local, mir, jafars, sun, lo,...\n",
       "999    [agar, ye, crore, log, khareeday, huay, hotay,...\n",
       "Name: Text, Length: 1000, dtype: object"
      ]
     },
     "execution_count": 16,
     "metadata": {},
     "output_type": "execute_result"
    }
   ],
   "source": [
    "from nltk import word_tokenize\n",
    "\n",
    "def tokenize_lowercase(text):\n",
    "    tokens = word_tokenize(text)\n",
    "    stopwords_removed = [token.lower() for token in tokens if token.lower() not in stop_words]\n",
    "    return stopwords_removed\n",
    "\n",
    "tweets_cleaned['Text'].apply(tokenize_lowercase)"
   ]
  },
  {
   "cell_type": "code",
   "execution_count": 17,
   "id": "6d82061e",
   "metadata": {},
   "outputs": [
    {
     "name": "stderr",
     "output_type": "stream",
     "text": [
      "<ipython-input-17-b740fa9e7ab1>:1: FutureWarning: The default value of regex will change from True to False in a future version.\n",
      "  tweets_cleaned['Text'] = tweets_cleaned['Text'].str.replace(r\"http\\S+\", \"\")\n"
     ]
    }
   ],
   "source": [
    "tweets_cleaned['Text'] = tweets_cleaned['Text'].str.replace(r\"http\\S+\", \"\")"
   ]
  },
  {
   "cell_type": "code",
   "execution_count": 18,
   "id": "216160f6",
   "metadata": {},
   "outputs": [
    {
     "data": {
      "text/html": [
       "<div>\n",
       "<style scoped>\n",
       "    .dataframe tbody tr th:only-of-type {\n",
       "        vertical-align: middle;\n",
       "    }\n",
       "\n",
       "    .dataframe tbody tr th {\n",
       "        vertical-align: top;\n",
       "    }\n",
       "\n",
       "    .dataframe thead th {\n",
       "        text-align: right;\n",
       "    }\n",
       "</style>\n",
       "<table border=\"1\" class=\"dataframe\">\n",
       "  <thead>\n",
       "    <tr style=\"text-align: right;\">\n",
       "      <th></th>\n",
       "      <th>Text</th>\n",
       "    </tr>\n",
       "  </thead>\n",
       "  <tbody>\n",
       "    <tr>\n",
       "      <th>0</th>\n",
       "      <td>We highly discourage the baseless trends on Tw...</td>\n",
       "    </tr>\n",
       "    <tr>\n",
       "      <th>1</th>\n",
       "      <td>May Allah help him the type of Pakistan SS got...</td>\n",
       "    </tr>\n",
       "    <tr>\n",
       "      <th>2</th>\n",
       "      <td>@whywouldyou_uk @agentjay2009 @ImranRiazKhan C...</td>\n",
       "    </tr>\n",
       "    <tr>\n",
       "      <th>3</th>\n",
       "      <td>@ahsankhan_91 @betterpakistan Whole country is...</td>\n",
       "    </tr>\n",
       "    <tr>\n",
       "      <th>4</th>\n",
       "      <td>@ImranKhanPTI Love You khan sab long live Ik l...</td>\n",
       "    </tr>\n",
       "    <tr>\n",
       "      <th>...</th>\n",
       "      <td>...</td>\n",
       "    </tr>\n",
       "    <tr>\n",
       "      <th>995</th>\n",
       "      <td>@ImranKhanPTI Pakistan zinda bad.imran Khan zi...</td>\n",
       "    </tr>\n",
       "    <tr>\n",
       "      <th>996</th>\n",
       "      <td>#WeWantImmediateElections. I as a citizen of p...</td>\n",
       "    </tr>\n",
       "    <tr>\n",
       "      <th>997</th>\n",
       "      <td>@AsapTweetme @ImranKhanPTI Here is Pakistan's ...</td>\n",
       "    </tr>\n",
       "    <tr>\n",
       "      <th>998</th>\n",
       "      <td>Pakistan #ImranKhan kaaa. Local mir jafars sun...</td>\n",
       "    </tr>\n",
       "    <tr>\n",
       "      <th>999</th>\n",
       "      <td>agar ye 2 crore log khareeday huay hotay to pa...</td>\n",
       "    </tr>\n",
       "  </tbody>\n",
       "</table>\n",
       "<p>1000 rows × 1 columns</p>\n",
       "</div>"
      ],
      "text/plain": [
       "                                                  Text\n",
       "0    We highly discourage the baseless trends on Tw...\n",
       "1    May Allah help him the type of Pakistan SS got...\n",
       "2    @whywouldyou_uk @agentjay2009 @ImranRiazKhan C...\n",
       "3    @ahsankhan_91 @betterpakistan Whole country is...\n",
       "4    @ImranKhanPTI Love You khan sab long live Ik l...\n",
       "..                                                 ...\n",
       "995  @ImranKhanPTI Pakistan zinda bad.imran Khan zi...\n",
       "996  #WeWantImmediateElections. I as a citizen of p...\n",
       "997  @AsapTweetme @ImranKhanPTI Here is Pakistan's ...\n",
       "998  Pakistan #ImranKhan kaaa. Local mir jafars sun...\n",
       "999  agar ye 2 crore log khareeday huay hotay to pa...\n",
       "\n",
       "[1000 rows x 1 columns]"
      ]
     },
     "execution_count": 18,
     "metadata": {},
     "output_type": "execute_result"
    }
   ],
   "source": [
    "tweets_cleaned"
   ]
  },
  {
   "cell_type": "code",
   "execution_count": 19,
   "id": "fbf34623",
   "metadata": {},
   "outputs": [
    {
     "name": "stdout",
     "output_type": "stream",
     "text": [
      "139775 words total, with a vocabulary size of 281\n",
      "Max tweet length is 335\n"
     ]
    }
   ],
   "source": [
    "all_words = [word for tokens in tweets_cleaned['Text'] for word in tokens]\n",
    "tweet_lengths = [len(tokens) for tokens in tweets_cleaned['Text']]\n",
    "vocab = sorted(list(set(all_words)))\n",
    "\n",
    "print('{} words total, with a vocabulary size of {}'.format(len(all_words), len(vocab)))\n",
    "print('Max tweet length is {}'.format(max(tweet_lengths)))"
   ]
  },
  {
   "cell_type": "code",
   "execution_count": 20,
   "id": "d5f02aa9",
   "metadata": {},
   "outputs": [
    {
     "name": "stderr",
     "output_type": "stream",
     "text": [
      "C:\\Users\\rab4h\\anaconda3\\lib\\site-packages\\seaborn\\_decorators.py:36: FutureWarning: Pass the following variable as a keyword arg: x. From version 0.12, the only valid positional argument will be `data`, and passing other arguments without an explicit keyword will result in an error or misinterpretation.\n",
      "  warnings.warn(\n"
     ]
    },
    {
     "data": {
      "image/png": "[encoded data removed]",
      "text/plain": [
       "<Figure size 1080x576 with 1 Axes>"
      ]
     },
     "metadata": {
      "needs_background": "light"
     },
     "output_type": "display_data"
    }
   ],
   "source": [
    "import matplotlib.pyplot as plt\n",
    "import seaborn as sns\n",
    "\n",
    "plt.figure(figsize = (15,8))\n",
    "sns.countplot(tweet_lengths)\n",
    "plt.title('Tweet Length Distribution', fontsize = 18)\n",
    "plt.xlabel('Words per Tweet', fontsize = 12)\n",
    "plt.ylabel('Number of Tweets', fontsize = 12)\n",
    "plt.show()"
   ]
  },
  {
   "cell_type": "code",
   "execution_count": 21,
   "id": "64e18b5f",
   "metadata": {},
   "outputs": [
    {
     "data": {
      "text/plain": [
       "[(' ', 20637),\n",
       " ('a', 13794),\n",
       " ('e', 8487),\n",
       " ('n', 7911),\n",
       " ('i', 7900),\n",
       " ('t', 6964),\n",
       " ('o', 5942),\n",
       " ('r', 5789),\n",
       " ('s', 5673),\n",
       " ('h', 4789),\n",
       " ('l', 3520),\n",
       " ('k', 3177),\n",
       " ('m', 2943),\n",
       " ('d', 2920),\n",
       " ('u', 2466),\n",
       " ('y', 2123),\n",
       " ('p', 2019),\n",
       " ('c', 1711),\n",
       " ('P', 1662),\n",
       " ('g', 1508),\n",
       " ('b', 1507),\n",
       " ('f', 1370),\n",
       " ('.', 1280),\n",
       " ('w', 1245),\n",
       " ('I', 1183),\n",
       " ('\\n', 1087),\n",
       " ('#', 936),\n",
       " ('A', 881),\n",
       " ('v', 820),\n",
       " ('@', 803)]"
      ]
     },
     "execution_count": 21,
     "metadata": {},
     "output_type": "execute_result"
    }
   ],
   "source": [
    "from nltk.probability import FreqDist\n",
    "\n",
    "#iterate through each tweet, then each token in each tweet, and store in one list\n",
    "flat_words = [item for sublist in tweets_cleaned['Text'] for item in sublist]\n",
    "\n",
    "word_freq = FreqDist(flat_words)\n",
    "\n",
    "word_freq.most_common(30)"
   ]
  },
  {
   "cell_type": "code",
   "execution_count": 22,
   "id": "a59d99db",
   "metadata": {},
   "outputs": [
    {
     "data": {
      "text/plain": [
       "{' ': 20637,\n",
       " 'a': 13794,\n",
       " 'e': 8487,\n",
       " 'n': 7911,\n",
       " 'i': 7900,\n",
       " 't': 6964,\n",
       " 'o': 5942,\n",
       " 'r': 5789,\n",
       " 's': 5673,\n",
       " 'h': 4789,\n",
       " 'l': 3520,\n",
       " 'k': 3177,\n",
       " 'm': 2943,\n",
       " 'd': 2920,\n",
       " 'u': 2466,\n",
       " 'y': 2123,\n",
       " 'p': 2019,\n",
       " 'c': 1711,\n",
       " 'P': 1662,\n",
       " 'g': 1508,\n",
       " 'b': 1507,\n",
       " 'f': 1370,\n",
       " '.': 1280,\n",
       " 'w': 1245,\n",
       " 'I': 1183,\n",
       " '\\n': 1087,\n",
       " '#': 936,\n",
       " 'A': 881,\n",
       " 'v': 820,\n",
       " '@': 803}"
      ]
     },
     "execution_count": 22,
     "metadata": {},
     "output_type": "execute_result"
    }
   ],
   "source": [
    "#retrieve word and count from FreqDist tuples\n",
    "\n",
    "most_common_count = [x[1] for x in word_freq.most_common(30)]\n",
    "most_common_word = [x[0] for x in word_freq.most_common(30)]\n",
    "\n",
    "#create dictionary mapping of word count\n",
    "top_30_dictionary = dict(zip(most_common_word, most_common_count))\n",
    "top_30_dictionary"
   ]
  },
  {
   "cell_type": "code",
   "execution_count": 23,
   "id": "20ed3d60",
   "metadata": {},
   "outputs": [
    {
     "data": {
      "image/png": "[encoded data removed]",
      "text/plain": [
       "<PIL.Image.Image image mode=RGB size=400x200 at 0x1A7AAABD0A0>"
      ]
     },
     "execution_count": 23,
     "metadata": {},
     "output_type": "execute_result"
    }
   ],
   "source": [
    "# Import the wordcloud library\n",
    "from wordcloud import WordCloud\n",
    "# Join the different processed titles together.\n",
    "long_string = ','.join(list(tweets_cleaned['Text'].values))\n",
    "# Create a WordCloud object\n",
    "wordcloud = WordCloud(background_color=\"white\", max_words=5000, contour_width=3, contour_color='steelblue')\n",
    "# Generate a word cloud\n",
    "wordcloud.generate(long_string)\n",
    "# Visualize the word cloud\n",
    "wordcloud.to_image()"
   ]
  },
  {
   "cell_type": "code",
   "execution_count": 44,
   "id": "163ca179",
   "metadata": {},
   "outputs": [
    {
     "name": "stdout",
     "output_type": "stream",
     "text": [
      "['highly', 'discourage', 'baseless', 'trends', 'twitter', 'targeted', 'towards', 'armed', 'forces', 'army', 'always', 'ahead', 'service', 'nation', 'current', 'matter', 'involved', 'politicians', 'linked', 'military', 'pakarmyourpride']\n"
     ]
    },
    {
     "name": "stderr",
     "output_type": "stream",
     "text": [
      "C:\\Users\\rab4h\\anaconda3\\lib\\site-packages\\ipykernel\\ipkernel.py:287: DeprecationWarning: `should_run_async` will not call `transform_cell` automatically in the future. Please pass the result to `transformed_cell` argument and any exception that happen during thetransform in `preprocessing_exc_tuple` in IPython 7.17 and above.\n",
      "  and should_run_async(code)\n",
      "[nltk_data] Downloading package stopwords to\n",
      "[nltk_data]     C:\\Users\\rab4h\\AppData\\Roaming\\nltk_data...\n",
      "[nltk_data]   Package stopwords is already up-to-date!\n"
     ]
    }
   ],
   "source": [
    "import gensim\n",
    "from gensim.utils import simple_preprocess\n",
    "import nltk\n",
    "nltk.download('stopwords')\n",
    "from nltk.corpus import stopwords\n",
    "stop_words = stopwords.words('english')\n",
    "stop_words.extend(['from', 'subject', 're', 'edu', 'use', 'pakistan', 'imran', 'khan', 'imrankhan', 'imrankhanpti', 'ki', 'ko', 'hai', 'IK', 'u', 'nhi', 'jo'])\n",
    "def sent_to_words(sentences):\n",
    "    for sentence in sentences:\n",
    "        # deacc=True removes punctuations\n",
    "        yield(gensim.utils.simple_preprocess(str(sentence), deacc=True))\n",
    "def remove_stopwords(texts):\n",
    "    return [[word for word in simple_preprocess(str(doc)) \n",
    "             if word not in stop_words] for doc in texts]\n",
    "data = tweets_cleaned.values.tolist()\n",
    "data_words = list(sent_to_words(data))\n",
    "# remove stop words\n",
    "data_words = remove_stopwords(data_words)\n",
    "print(data_words[:1][0][:30])"
   ]
  },
  {
   "cell_type": "code",
   "execution_count": 45,
   "id": "f3953696",
   "metadata": {},
   "outputs": [
    {
     "name": "stdout",
     "output_type": "stream",
     "text": [
      "[(0, 1), (1, 1), (2, 1), (3, 1), (4, 1), (5, 1), (6, 1), (7, 1), (8, 1), (9, 1), (10, 1), (11, 1), (12, 1), (13, 1), (14, 1), (15, 1), (16, 1), (17, 1), (18, 1), (19, 1), (20, 1)]\n"
     ]
    },
    {
     "name": "stderr",
     "output_type": "stream",
     "text": [
      "C:\\Users\\rab4h\\anaconda3\\lib\\site-packages\\ipykernel\\ipkernel.py:287: DeprecationWarning: `should_run_async` will not call `transform_cell` automatically in the future. Please pass the result to `transformed_cell` argument and any exception that happen during thetransform in `preprocessing_exc_tuple` in IPython 7.17 and above.\n",
      "  and should_run_async(code)\n"
     ]
    }
   ],
   "source": [
    "import gensim.corpora as corpora\n",
    "# Create Dictionary\n",
    "id2word = corpora.Dictionary(data_words)\n",
    "# Create Corpus\n",
    "texts = data_words\n",
    "# Term Document Frequency\n",
    "corpus = [id2word.doc2bow(text) for text in texts]\n",
    "# View\n",
    "print(corpus[:1][0][:30])"
   ]
  },
  {
   "cell_type": "code",
   "execution_count": 46,
   "id": "54206fce",
   "metadata": {},
   "outputs": [
    {
     "name": "stderr",
     "output_type": "stream",
     "text": [
      "C:\\Users\\rab4h\\anaconda3\\lib\\site-packages\\ipykernel\\ipkernel.py:287: DeprecationWarning: `should_run_async` will not call `transform_cell` automatically in the future. Please pass the result to `transformed_cell` argument and any exception that happen during thetransform in `preprocessing_exc_tuple` in IPython 7.17 and above.\n",
      "  and should_run_async(code)\n"
     ]
    },
    {
     "ename": "IndentationError",
     "evalue": "unexpected indent (<ipython-input-46-17756aae1da5>, line 13)",
     "output_type": "error",
     "traceback": [
      "\u001b[1;36m  File \u001b[1;32m\"<ipython-input-46-17756aae1da5>\"\u001b[1;36m, line \u001b[1;32m13\u001b[0m\n\u001b[1;33m    id2word=id2word,\u001b[0m\n\u001b[1;37m    ^\u001b[0m\n\u001b[1;31mIndentationError\u001b[0m\u001b[1;31m:\u001b[0m unexpected indent\n"
     ]
    }
   ],
   "source": [
    "from pprint import pprint\n",
    "# number of topics\n",
    "lst = list(np.arange(1,10+1))\n",
    "#num_topics = k\n",
    "# Build LDA model\n",
    "#lda_model = gensim.models.LdaMulticore(corpus=corpus,\n",
    "                                       id2word=id2word,\n",
    "                                      num_topics=5)\n",
    "#for l in lst:\n",
    "# Print the Keyword in the different number of topics\n",
    "#    num_topics = l\n",
    "#    lda_model = gensim.models.LdaMulticore(corpus=corpus,\n",
    "                                       id2word=id2word,\n",
    "                                       num_topics=num_topics)\n",
    "#    pprint(lda_model.print_topics())\n",
    "\n",
    "    \n",
    "    \n",
    "#doc_lda = lda_model[corpus]"
   ]
  },
  {
   "cell_type": "code",
   "execution_count": 53,
   "id": "b56c3085",
   "metadata": {},
   "outputs": [
    {
     "name": "stderr",
     "output_type": "stream",
     "text": [
      "C:\\Users\\rab4h\\anaconda3\\lib\\site-packages\\ipykernel\\ipkernel.py:287: DeprecationWarning: `should_run_async` will not call `transform_cell` automatically in the future. Please pass the result to `transformed_cell` argument and any exception that happen during thetransform in `preprocessing_exc_tuple` in IPython 7.17 and above.\n",
      "  and should_run_async(code)\n"
     ]
    },
    {
     "data": {
      "text/html": [
       "<div>\n",
       "<style scoped>\n",
       "    .dataframe tbody tr th:only-of-type {\n",
       "        vertical-align: middle;\n",
       "    }\n",
       "\n",
       "    .dataframe tbody tr th {\n",
       "        vertical-align: top;\n",
       "    }\n",
       "\n",
       "    .dataframe thead th {\n",
       "        text-align: right;\n",
       "    }\n",
       "</style>\n",
       "<table border=\"1\" class=\"dataframe\">\n",
       "  <thead>\n",
       "    <tr style=\"text-align: right;\">\n",
       "      <th></th>\n",
       "      <th>Topic # 01</th>\n",
       "      <th>Topic # 02</th>\n",
       "      <th>Topic # 03</th>\n",
       "      <th>Topic # 04</th>\n",
       "      <th>Topic # 05</th>\n",
       "    </tr>\n",
       "  </thead>\n",
       "  <tbody>\n",
       "    <tr>\n",
       "      <th>0</th>\n",
       "      <td>xa</td>\n",
       "      <td>hai</td>\n",
       "      <td>ko</td>\n",
       "      <td>ki</td>\n",
       "      <td>amp</td>\n",
       "    </tr>\n",
       "    <tr>\n",
       "      <th>1</th>\n",
       "      <td>nation</td>\n",
       "      <td>ka</td>\n",
       "      <td>america</td>\n",
       "      <td>ka</td>\n",
       "      <td>people</td>\n",
       "    </tr>\n",
       "    <tr>\n",
       "      <th>2</th>\n",
       "      <td>us</td>\n",
       "      <td>ko</td>\n",
       "      <td>zindabad</td>\n",
       "      <td>hain</td>\n",
       "      <td>ka</td>\n",
       "    </tr>\n",
       "    <tr>\n",
       "      <th>3</th>\n",
       "      <td>pakistani</td>\n",
       "      <td>allah</td>\n",
       "      <td>da</td>\n",
       "      <td>ko</td>\n",
       "      <td>leader</td>\n",
       "    </tr>\n",
       "    <tr>\n",
       "      <th>4</th>\n",
       "      <td>pm</td>\n",
       "      <td>ki</td>\n",
       "      <td>people</td>\n",
       "      <td>hai</td>\n",
       "      <td>minister</td>\n",
       "    </tr>\n",
       "    <tr>\n",
       "      <th>5</th>\n",
       "      <td>army</td>\n",
       "      <td>people</td>\n",
       "      <td>army</td>\n",
       "      <td>people</td>\n",
       "      <td>love</td>\n",
       "    </tr>\n",
       "    <tr>\n",
       "      <th>6</th>\n",
       "      <td>anyone</td>\n",
       "      <td>ap</td>\n",
       "      <td>hai</td>\n",
       "      <td>ha</td>\n",
       "      <td>world</td>\n",
       "    </tr>\n",
       "    <tr>\n",
       "      <th>7</th>\n",
       "      <td>right</td>\n",
       "      <td>aur</td>\n",
       "      <td>country</td>\n",
       "      <td>ye</td>\n",
       "      <td>pakistani</td>\n",
       "    </tr>\n",
       "    <tr>\n",
       "      <th>8</th>\n",
       "      <td>left</td>\n",
       "      <td>amp</td>\n",
       "      <td>ka</td>\n",
       "      <td>allah</td>\n",
       "      <td>fight</td>\n",
       "    </tr>\n",
       "    <tr>\n",
       "      <th>9</th>\n",
       "      <td>country</td>\n",
       "      <td>leader</td>\n",
       "      <td>allah</td>\n",
       "      <td>time</td>\n",
       "      <td>like</td>\n",
       "    </tr>\n",
       "  </tbody>\n",
       "</table>\n",
       "</div>"
      ],
      "text/plain": [
       "  Topic # 01 Topic # 02 Topic # 03 Topic # 04 Topic # 05\n",
       "0         xa        hai         ko         ki        amp\n",
       "1     nation         ka    america         ka     people\n",
       "2         us         ko   zindabad       hain         ka\n",
       "3  pakistani      allah         da         ko     leader\n",
       "4         pm         ki     people        hai   minister\n",
       "5       army     people       army     people       love\n",
       "6     anyone         ap        hai         ha      world\n",
       "7      right        aur    country         ye  pakistani\n",
       "8       left        amp         ka      allah      fight\n",
       "9    country     leader      allah       time       like"
      ]
     },
     "execution_count": 53,
     "metadata": {},
     "output_type": "execute_result"
    }
   ],
   "source": [
    "def get_lda_topics(model, num_topics, top_n_words):\n",
    "     word_dict = {}\n",
    "     for i in range(num_topics):\n",
    "         word_dict['Topic # ' + '{:02d}'.format(i+1)] = [i[0] for i in model.show_topic(i, topn = top_n_words)];\n",
    " \n",
    "     return pd.DataFrame(word_dict)\n",
    "get_lda_topics(lda_model,5,10)"
   ]
  },
  {
   "cell_type": "code",
   "execution_count": 57,
   "id": "946866fe",
   "metadata": {},
   "outputs": [
    {
     "name": "stderr",
     "output_type": "stream",
     "text": [
      "C:\\Users\\rab4h\\anaconda3\\lib\\site-packages\\ipykernel\\ipkernel.py:287: DeprecationWarning: `should_run_async` will not call `transform_cell` automatically in the future. Please pass the result to `transformed_cell` argument and any exception that happen during thetransform in `preprocessing_exc_tuple` in IPython 7.17 and above.\n",
      "  and should_run_async(code)\n"
     ]
    }
   ],
   "source": [
    "lda_model = gensim.models.LdaMulticore(corpus=corpus,\n",
    "                                       id2word=id2word,\n",
    "                                      num_topics=5)"
   ]
  },
  {
   "cell_type": "code",
   "execution_count": 58,
   "id": "15bae6f8",
   "metadata": {
    "scrolled": false
   },
   "outputs": [
    {
     "name": "stderr",
     "output_type": "stream",
     "text": [
      "C:\\Users\\rab4h\\anaconda3\\lib\\site-packages\\ipykernel\\ipkernel.py:287: DeprecationWarning: `should_run_async` will not call `transform_cell` automatically in the future. Please pass the result to `transformed_cell` argument and any exception that happen during thetransform in `preprocessing_exc_tuple` in IPython 7.17 and above.\n",
      "  and should_run_async(code)\n"
     ]
    },
    {
     "data": {
      "text/html": [
       "\n",
       "<link rel=\"stylesheet\" type=\"text/css\" href=\"https://cdn.jsdelivr.net/gh/bmabey/pyLDAvis@3.3.1/pyLDAvis/js/ldavis.v1.0.0.css\">\n",
       "\n",
       "\n",
       "<div id=\"ldavis_el1594818197257317608403185749\"></div>\n",
       "<script type=\"text/javascript\">\n",
       "\n",
       "var ldavis_el1594818197257317608403185749_data = {\"mdsDat\": {\"x\": [0.06973863698872512, -0.013232795539926973, -0.04989936225666605, -0.0893156133285277, 0.08270913413639558], \"y\": [-0.07132989212426666, 0.08482215561780655, -0.08310123858113891, 0.0252509058388242, 0.04435806924877482], \"topics\": [1, 2, 3, 4, 5], \"cluster\": [1, 1, 1, 1, 1], \"Freq\": [24.44356887448443, 20.392374736750654, 20.0749625414972, 17.756097530254312, 17.332996317013404]}, \"tinfo\": {\"Term\": [\"xa\", \"power\", \"hamidmirpak\", \"zindabad\", \"nation\", \"people\", \"ha\", \"america\", \"sath\", \"prime\", \"aa\", \"na\", \"pti\", \"ka\", \"one\", \"minister\", \"corrupt\", \"become\", \"ap\", \"naya\", \"aap\", \"left\", \"abroad\", \"old\", \"npakistan\", \"party\", \"stand\", \"\\u0645\\u06cc\\u06ba\", \"fight\", \"gaddar\", \"\\u0627\\u062d\\u062a\\u062c\\u0627\\u062c\", \"murdered\", \"lannnnnat\", \"asked\", \"ntoday\", \"house\", \"laundering\", \"view\", \"\\u062e\\u0627\\u0646\", \"left\", \"\\u0631\\u0648\\u06a9\", \"\\u0686\\u06cc\\u0646\\u0644\\u0632\", \"\\u06a9\\u0648\\u0631\\u06cc\\u062c\", \"traditional\", \"frm\", \"language\", \"count\", \"fuke\", \"suna\", \"\\u0635\\u0627\\u062d\\u0628\", \"coz\", \"bollywood\", \"terrorists\", \"\\u062f\\u06cc\\u06ba\", \"ones\", \"nthis\", \"\\u0648\\u06c1\\u06cc\", \"teslim\", \"\\u0646\\u06a9\\u0644\\u0627\", \"feature\", \"abroad\", \"could\", \"\\u062d\\u06a9\\u0648\\u0645\\u062a\", \"countries\", \"\\u0633\\u06d2\", \"hon\", \"wasting\", \"gay\", \"since\", \"future\", \"nd\", \"anyone\", \"apko\", \"\\u06a9\\u0648\", \"\\u062a\\u0648\", \"\\u06af\\u06d2\", \"money\", \"\\u0645\\u06cc\\u06ba\", \"iran\", \"liay\", \"\\u067e\\u0627\\u06a9\\u0633\\u062a\\u0627\\u0646\", \"across\", \"\\u06a9\\u06d2\", \"time\", \"ik\", \"nation\", \"kay\", \"protests\", \"one\", \"aur\", \"change\", \"amp\", \"pakistani\", \"ho\", \"court\", \"right\", \"us\", \"ka\", \"ye\", \"supreme\", \"ga\", \"bhi\", \"pti\", \"people\", \"leader\", \"allah\", \"army\", \"hain\", \"love\", \"npakistan\", \"country\", \"ke\", \"london\", \"kab\", \"gaddar\", \"income\", \"shehbaz\", \"fast\", \"assets\", \"earn\", \"rahy\", \"highest\", \"\\u0915\\u092f\", \"crypto\", \"nbut\", \"chuka\", \"accepted\", \"balochi\", \"umrah\", \"ana\", \"risen\", \"republic\", \"officially\", \"low\", \"desial\", \"bbcurdu\", \"shaitaan\", \"doller\", \"lord\", \"events\", \"knows\", \"haq\", \"hamidmirpak\", \"ker\", \"hate\", \"naya\", \"ja\", \"old\", \"gaya\", \"respect\", \"corrupt\", \"aa\", \"know\", \"ya\", \"want\", \"ky\", \"gy\", \"question\", \"bajwa\", \"dualar\\u0131m\\u0131z\", \"america\", \"\\u0131n\", \"nahi\", \"mein\", \"sharif\", \"western\", \"pti\", \"tha\", \"awam\", \"phir\", \"kar\", \"army\", \"one\", \"ye\", \"american\", \"imranriazkhan\", \"aur\", \"media\", \"people\", \"hain\", \"se\", \"ka\", \"pakistani\", \"zindabad\", \"allah\", \"us\", \"ho\", \"ab\", \"replaced\", \"madia\", \"heading\", \"backed\", \"moment\", \"shukriya\", \"xa\", \"tonight\", \"mi\", \"card\", \"remittances\", \"mei\", \"terrorist\", \"terrorism\", \"maybe\", \"wants\", \"alone\", \"acting\", \"culprit\", \"bhe\", \"improve\", \"abad\", \"selfless\", \"kon\", \"mn\", \"pending\", \"multan\", \"nikley\", \"haroon_natamam\", \"amazing\", \"inshaallah\", \"aap\", \"university\", \"saath\", \"watching\", \"ozgurluk\", \"fight\", \"ni\", \"pakistanis\", \"world\", \"stand\", \"jese\", \"like\", \"hien\", \"come\", \"crime\", \"every\", \"always\", \"aaj\", \"judiciary\", \"people\", \"ke\", \"ga\", \"allah\", \"ap\", \"us\", \"se\", \"purana\", \"country\", \"sir\", \"main\", \"new\", \"ptiofficial\", \"standing\", \"zindabad\", \"nai\", \"amp\", \"ka\", \"army\", \"imported\", \"ne\", \"nation\", \"hain\", \"leader\", \"liberty\", \"mmariaaali\", \"yesterday\", \"mehrtarar\", \"criminals\", \"months\", \"ukaat\", \"constructed\", \"mob\", \"nits\", \"sah\\u0131s\", \"lot\", \"yollardan\", \"giris\", \"yapmaya\", \"disrespect\", \"unmatchable\", \"might\", \"mandate\", \"thanks\", \"muftimenk\", \"congratulations\", \"pic\", \"nations\", \"reaction\", \"prayers\", \"unprecedented\", \"nthank\", \"khareedna\", \"zafer\", \"power\", \"sath\", \"honest\", \"ha\", \"zacgoldsmith\", \"people\", \"shareef\", \"npakistan\", \"haydi\", \"zindabad\", \"apne\", \"ka\", \"ghulam\", \"da\", \"bas\", \"afganistan\", \"wo\", \"zinda\", \"today\", \"bad\", \"hy\", \"lahore\", \"army\", \"hi\", \"ho\", \"ab\", \"leader\", \"america\", \"crowd\", \"like\", \"pak\", \"election\", \"allah\", \"na\", \"amp\", \"ik\", \"pti\", \"bhi\", \"pm\", \"nation\", \"ye\", \"ke\", \"se\", \"kyon\", \"legitimacy\", \"daughter\", \"degy\", \"harming\", \"robbers\", \"murderous\", \"nyour\", \"murdabad\", \"npm\", \"bcoz\", \"muhajjir\", \"asyazzale\", \"turkey\", \"products\", \"art\\u0131k\", \"nail\", \"nah\", \"wa\", \"hours\", \"cant\", \"yemen\", \"goosebumps\", \"siasatpk\", \"side\", \"geonews_english\", \"guven\", \"naseeb\", \"corruption\", \"unfollow\", \"thing\", \"become\", \"thy\", \"confidence\", \"anchors\", \"party\", \"prime\", \"officialdgispr\", \"na\", \"minister\", \"ka\", \"hn\", \"nation\", \"zindabad\", \"tou\", \"movement\", \"hain\", \"supporting\", \"welcome\", \"sab\", \"parliament\", \"allah\", \"de\", \"government\", \"main\", \"pm\", \"ho\", \"america\", \"army\", \"leader\", \"people\", \"ab\", \"stand\", \"ap\", \"ye\", \"se\", \"love\", \"ha\", \"pti\", \"change\"], \"Freq\": [11.0, 16.0, 16.0, 40.0, 34.0, 71.0, 23.0, 29.0, 13.0, 17.0, 10.0, 20.0, 27.0, 63.0, 22.0, 17.0, 19.0, 9.0, 19.0, 8.0, 7.0, 8.0, 7.0, 14.0, 23.0, 10.0, 19.0, 10.0, 12.0, 5.0, 3.126195268062605, 2.381351627350055, 2.3809501799910526, 2.3806249591732906, 2.380265259357657, 2.379858220809811, 2.379777521317495, 2.376533513550181, 5.022309607647532, 6.101384080571192, 1.6375330379255797, 1.637295785145631, 1.63702274875708, 1.6372411778679208, 1.6368811053063643, 1.6370523820579534, 1.6369142796935057, 1.636686718307553, 1.6361182807750752, 1.6360638598703265, 1.6360152165273834, 1.6356745267538195, 1.635601468552924, 1.6357602583160948, 1.6355757490842415, 1.635256678574208, 1.6353919853442338, 1.6354902038949275, 1.6352194039819143, 1.6353636566540908, 5.3518203582365, 5.251306065403429, 2.679589367750592, 5.114323056962119, 4.130828839089624, 2.134603145014319, 3.1253111147334, 3.552855347665336, 3.5716592612397022, 4.349517753838564, 3.4658225293730243, 5.5498960507011414, 3.8686881866121574, 5.513871648233042, 4.689680837413204, 3.8094331399889017, 5.0181423082291055, 6.423958402280238, 4.915214485545022, 2.0959652345075526, 6.6514333111787085, 4.423574541061618, 7.2330690312958446, 9.58424072587648, 9.833188781903463, 13.75409196289238, 7.785766248939901, 5.895265649327355, 9.748837870526678, 10.096556886705159, 8.113189995106348, 10.912625191118293, 9.05974770123732, 10.47969496597289, 6.93342752974953, 6.356942412795527, 9.56132952497728, 14.040676920250084, 8.782488846871482, 5.920128920624973, 7.325615880026153, 6.3677863371855885, 7.923558488779905, 10.87105507480875, 7.904160790950302, 8.994320354876162, 8.750245579045648, 7.458218751127039, 6.53798734404121, 6.487444487874743, 6.319040861859521, 6.338581694123532, 2.8032798350486074, 2.173501279270819, 4.003956346875019, 1.4943659937563931, 1.4937283533005892, 1.4939281504197572, 1.4935923046785877, 1.493757895287081, 1.493402458544343, 1.4931152793388152, 1.4934441282937105, 1.4928697698826547, 1.4929344512846578, 1.4928319872367732, 1.4925731061446215, 1.4926698172793473, 1.4918350229347457, 1.4910955403676147, 1.4907135158370344, 1.490229960163406, 1.4869804971334506, 1.4811081721554444, 1.4646366488766094, 1.4593781752810742, 1.4589714287723243, 1.9340330038636928, 1.4576501245554452, 1.455655418530693, 1.936554801121114, 3.3539524142401276, 10.466066561283005, 2.7965672737811196, 3.187906548186532, 5.5956434396360875, 3.0981082382999166, 8.085250504702703, 3.8556020881423683, 2.627163883220664, 8.990266462163575, 5.251845617639462, 6.295080133751797, 7.921615264746836, 8.767629344849786, 4.078971224784595, 4.862578946812656, 2.850690680780273, 6.701760095289967, 2.8441699869408423, 11.13957907386321, 3.406614270328636, 6.538843813994826, 4.401923910144348, 3.5799980548585086, 2.1725277930738454, 9.744562314226222, 5.93373437177906, 7.0526865541111965, 4.031855487949568, 6.111984498904825, 11.619752656490771, 6.967134827040702, 8.159040789530126, 3.9772886401847583, 5.068412582209926, 7.061513077738379, 5.411415258317504, 11.573149706347586, 7.446545915448496, 6.994557875680316, 8.712059313417372, 6.081880281764874, 7.079026189267259, 6.72016755158885, 5.880310643407343, 5.440830369751499, 5.072388000686882, 2.970083080770908, 2.968948264337385, 2.2711491189465214, 2.270712886570538, 2.248860246621629, 2.2416252178679517, 8.672466168171804, 2.0890008260786446, 2.085699388844404, 1.5634210185502937, 1.5636242875311028, 1.563363925681437, 1.5632704035825857, 1.5634984689300298, 1.5629844800463273, 1.5627910071609787, 1.5625748808048776, 1.5625863606042456, 1.5624703380986331, 1.5621138520622595, 1.5616315474248126, 1.5612915922995287, 1.560813573453846, 1.5600438146402247, 1.559970190860278, 1.5553733730653545, 1.5245412340508093, 1.5226874760488676, 2.013983398488708, 1.5076922559864252, 2.4708611987194287, 5.2458134049852125, 2.42903860591796, 2.3852711820395633, 4.494566456632903, 1.956054034917993, 6.148390129886104, 6.318221975608059, 4.645685004873113, 6.85538352312278, 7.98739582432016, 2.5780176256839615, 9.1776036673696, 2.2590996154019036, 6.8383548479322895, 2.268467284750169, 4.410002580952543, 5.271548360016381, 2.8188436119773543, 2.8397999091916115, 17.665057715391196, 8.638263713126811, 7.638108081342099, 12.479309681979101, 7.058678218682448, 9.216713353984428, 9.104733574517443, 5.354442919804645, 7.508709007378129, 4.913950466807833, 7.049972551097736, 4.270420465757197, 5.30716512634351, 3.5992241482297227, 8.19830943312437, 4.4972260965504764, 6.626871841079427, 8.941307762970805, 7.718669333642822, 4.762420482558274, 4.886484358031972, 5.939259410455737, 5.687392000066226, 4.8225991214851565, 2.1986435843872654, 2.1682346850262277, 2.162747996969861, 2.1508158347437902, 2.046722015821404, 1.514522615816924, 1.5139466943080095, 1.513774892616704, 1.5137227699601616, 1.5136783641644578, 1.51360701704758, 1.5133581821314104, 1.5132284847159096, 1.5130231079107797, 1.5127618177104492, 1.512911010353332, 1.512556982439413, 1.5119361136007006, 1.5113087463528607, 1.5110244409535376, 1.5093183377905515, 1.5076856124972955, 1.4607286496768903, 2.9334029999321998, 1.456403958402614, 2.881133858417203, 1.4497222399844254, 2.8876127723172074, 1.397098529021415, 1.371335856802936, 9.496761018877061, 7.072800260952279, 3.5578611266193354, 10.442694362027849, 2.1679123368568045, 21.84701247604456, 2.7865774025739216, 8.749529531614389, 2.2013309473284868, 11.8946739868829, 3.2297093363113873, 15.824070283144621, 2.1134915450030247, 6.420180195243423, 2.624300212912999, 2.361405176295225, 5.6008645632011165, 3.8162630548596153, 3.9262421309315143, 3.9860066458408587, 5.190565841579774, 3.293370459793741, 9.409141885544313, 4.951986498081448, 7.510424251420191, 6.34527682397069, 6.623361621156684, 6.379913886153758, 3.9541750010314938, 5.493803814361508, 4.383177768723738, 3.7801023865032226, 6.967671164225787, 4.858222577384661, 5.374692848863348, 4.734329865836932, 4.929158669885124, 4.15618806713706, 4.568459055928564, 4.470736521005011, 4.395095309529272, 4.224546728117374, 4.21540888181608, 2.73127814061734, 2.7283286487095175, 2.0808424882971686, 2.0805658825725035, 2.08000817776692, 2.0791270834686206, 2.0790828106937695, 1.4308704446163305, 1.4308983298566096, 1.4307163489283423, 1.4302582909055575, 1.4301772783354572, 1.430370889126969, 1.4302193044321814, 1.4296968856889416, 1.4297753872658412, 1.4296460050372475, 1.4294816010613836, 1.4290756131081246, 1.429108388177268, 1.4288695795081472, 1.4282929761747916, 1.893894815479193, 1.868965014197002, 1.377972804594424, 1.36840089851414, 1.3396578236631562, 1.7769105497339779, 1.3352847307681903, 1.3345764985281139, 2.6194189441518705, 5.223028675113429, 1.7331110310226832, 3.456919757340293, 2.0815167560502696, 5.336332089141794, 7.579637555558919, 5.249246615907474, 7.505243963535265, 6.481787452000599, 16.113980100192823, 3.5812424667927214, 9.65305609422252, 10.46676273584306, 2.9760412997191588, 3.967796389940048, 8.154218878600433, 2.236213364358634, 3.603030222635873, 4.237440848508027, 2.646067982831179, 9.347202320758194, 4.457692749246916, 5.3661944061725135, 6.24188716162538, 6.09445168486516, 7.276857766402144, 6.84397258260974, 8.221583275553145, 6.461243827209524, 9.627764313446848, 5.947941839493165, 5.072779828708361, 5.049723096196202, 5.90373302889019, 5.696450275874318, 4.918689427021611, 5.129571622711624, 4.8484149211070635, 4.4237607730258794], \"Total\": [11.0, 16.0, 16.0, 40.0, 34.0, 71.0, 23.0, 29.0, 13.0, 17.0, 10.0, 20.0, 27.0, 63.0, 22.0, 17.0, 19.0, 9.0, 19.0, 8.0, 7.0, 8.0, 7.0, 14.0, 23.0, 10.0, 19.0, 10.0, 12.0, 5.0, 3.6742534918464695, 2.929288462661277, 2.9292374892490214, 2.929283371039042, 2.929026149447951, 2.928929725052213, 2.9294305002108105, 2.928568423741564, 6.546504390385151, 8.014945220440243, 2.184801349439451, 2.1846939989062966, 2.1844281922965276, 2.1848582070197393, 2.184612559544644, 2.1848661423809097, 2.1846973432462757, 2.184545445297489, 2.1846860807614976, 2.1846437808597, 2.1846701001126814, 2.1843852284762297, 2.1843245078380837, 2.1846893286947036, 2.184532875357225, 2.1841234161335294, 2.1843595494336125, 2.184546249640919, 2.1842238672610677, 2.18444348269264, 7.265998580749582, 7.261019509931608, 3.637563805848488, 7.275237990967901, 5.832269461323636, 2.898413634907981, 4.35398631969841, 5.052915318582712, 5.08629457750747, 6.450946616052038, 5.0767102065254, 8.653827166623254, 5.771320177396611, 8.654949603729387, 7.236923924842166, 5.7528507663474695, 7.948386641599529, 10.660239577324212, 7.93420543556433, 2.914205862979393, 11.509906757048064, 7.2368464946890185, 13.544331353416371, 19.996297581967998, 21.333364672657947, 34.39590442771595, 15.688676676813769, 10.69578988669533, 22.477056579037743, 25.42621452206922, 18.29297585420565, 29.040979969468825, 25.354122057588068, 32.7206505783622, 16.34056614784491, 14.036200434786732, 30.33634574804904, 63.6320943799757, 30.61495183770575, 12.869306198232556, 21.341578891702007, 15.594015387083092, 27.73814790799937, 71.58403928603894, 29.91948550817355, 44.50867107342809, 45.7193927302767, 31.154559519640912, 20.880866219869446, 23.815103559623452, 23.876461052101174, 25.400815488280582, 3.4119132047251743, 2.7348957770260576, 5.433046985526418, 2.0551131483242666, 2.0548012821363812, 2.0550923070453897, 2.054658709360601, 2.0550224697043986, 2.0546050506940126, 2.0545164040041586, 2.055085073664836, 2.054742097608387, 2.054977637199337, 2.0550195302140133, 2.054816682599884, 2.0550815256804653, 2.0546878194626035, 2.05465868730201, 2.0546269322230115, 2.0547030370599555, 2.054876178118911, 2.0545026271727456, 2.0538804531131127, 2.0534853884769784, 2.053468876794012, 2.724287466789626, 2.0533523888726855, 2.0531512675364825, 2.752409551636717, 4.786765184913092, 16.549321920322893, 4.108191960199543, 4.745709073397436, 8.94853870375904, 4.796896732405545, 14.485902271983985, 6.18175287640612, 4.117560014960303, 19.20777963642835, 10.340050638248249, 13.144753927847487, 18.160026749863565, 20.829039582421096, 7.627794838505886, 9.658946845871037, 4.813471448363746, 15.13679911600913, 4.836010290511646, 29.974734833658577, 6.193955534473252, 15.22180394194949, 9.006086602271438, 6.851698580705249, 3.445975393331292, 27.73814790799937, 14.399674909973607, 18.7277731849657, 8.282887891111171, 15.991252052607221, 45.7193927302767, 22.477056579037743, 30.61495183770575, 8.270376121023533, 13.265676724620784, 25.42621452206922, 15.151009160982492, 71.58403928603894, 31.154559519640912, 30.49900257413868, 63.6320943799757, 25.354122057588068, 40.38272375138159, 44.50867107342809, 30.33634574804904, 32.7206505783622, 26.24581706195786, 3.5395554092299335, 3.5388378566464676, 2.828651566075074, 2.8285949634443144, 2.828162688227455, 2.8269827963057073, 11.36401045700799, 2.8138208840308403, 2.818741994774431, 2.1177298193164042, 2.1180120876415702, 2.1179436736840738, 2.117849716106586, 2.1182333538265743, 2.1179782982745774, 2.1179487865438937, 2.117706073710596, 2.1177623437029283, 2.117833482441559, 2.1177389119061893, 2.1172832195320965, 2.117602991657896, 2.1178313694700055, 2.1174794197164672, 2.117440083680684, 2.1171649611070307, 2.1158337565407015, 2.1159061017541907, 2.8146861231937805, 2.1200940492541163, 3.5170166158367744, 7.72853708866906, 3.5221713882391286, 3.513467646212307, 7.677237283660319, 2.818723647825336, 12.46781482286638, 13.276171092028363, 9.148555468198365, 15.556805639931783, 19.438002766115986, 4.207310256960938, 24.54195844172304, 3.516042110882184, 16.896269472982606, 3.5729091830602417, 9.165915639437491, 11.845852999000874, 4.876058881382038, 4.935941443285681, 71.58403928603894, 25.400815488280582, 21.341578891702007, 44.50867107342809, 19.649657683122175, 30.33634574804904, 30.49900257413868, 13.138346486548956, 23.876461052101174, 11.841719880061024, 24.206275484353064, 9.797249685997743, 15.402196344130576, 7.164932952990474, 40.38272375138159, 11.958805349112941, 29.040979969468825, 63.6320943799757, 45.7193927302767, 13.918761575087496, 16.118009432019807, 34.39590442771595, 31.154559519640912, 29.91948550817355, 2.7623763552791387, 2.7632755718866675, 2.7613803009239146, 2.7634603199372507, 2.7671883292646013, 2.073387943555354, 2.0731131057336945, 2.072999555128729, 2.073140942080176, 2.073395513518997, 2.0733402922412623, 2.0731194600161307, 2.073325854704607, 2.0732167219136186, 2.0732494281154334, 2.073454757255134, 2.073462018298125, 2.072833119661106, 2.0731980038800217, 2.07297693886615, 2.0728447245135686, 2.072909394498766, 2.07236611088932, 4.162355211710149, 2.0723094870883916, 4.101716527662841, 2.0784592616907034, 4.159743176598153, 2.0667106254561003, 2.065320744475499, 16.55466890061105, 13.18915783434796, 6.226188407242969, 23.99738890575191, 3.413534838394165, 71.58403928603894, 4.7557552356581825, 23.815103559623452, 3.5062732184514225, 40.38272375138159, 6.177393318824349, 63.6320943799757, 3.4401295934397633, 19.49061283802216, 4.848335853587738, 4.1313747348752745, 16.105677260286953, 8.925983770691964, 9.580023268828917, 10.346041051167253, 16.091346795548276, 7.566078874148826, 45.7193927302767, 15.288227471970101, 32.7206505783622, 26.24581706195786, 29.91948550817355, 29.974734833658577, 11.28904706158171, 24.54195844172304, 14.568378604427384, 10.295143708302021, 44.50867107342809, 20.697681341741912, 29.040979969468825, 21.333364672657947, 27.73814790799937, 15.594015387083092, 23.500423661682877, 34.39590442771595, 30.61495183770575, 25.400815488280582, 30.49900257413868, 3.298944452527245, 3.2992970963481025, 2.6482995364760273, 2.648303247454125, 2.648326724608317, 2.648192806147507, 2.6482315691980496, 1.9974022520050498, 1.9974874969985064, 1.9974971268297765, 1.9971879410905151, 1.9972053109494277, 1.9976230628275395, 1.9974807754605848, 1.9969689390001348, 1.9971003257528634, 1.9973387822070612, 1.9971147172551516, 1.9972002973019283, 1.9976387282748531, 1.9975044168498646, 1.9972506066701858, 2.656306505980664, 2.6640017890250336, 2.00210687721405, 2.0027286534159936, 2.005907224045795, 2.668131309667621, 2.005963070395226, 2.006301280119306, 3.993751839818953, 9.388126952062528, 2.6913846477094054, 6.065446711127148, 3.359127932882918, 10.835130513756262, 17.019230966779492, 12.244741164071506, 20.697681341741912, 17.116949809035503, 63.6320943799757, 7.443521176818175, 34.39590442771595, 40.38272375138159, 6.075150464529564, 9.511435998750075, 31.154559519640912, 4.088870953164476, 8.87656393113824, 11.692059677291017, 5.413112416756543, 44.50867107342809, 12.959318890375393, 17.956873724905613, 24.206275484353064, 23.500423661682877, 32.7206505783622, 29.974734833658577, 45.7193927302767, 29.91948550817355, 71.58403928603894, 26.24581706195786, 19.438002766115986, 19.649657683122175, 30.61495183770575, 30.49900257413868, 20.880866219869446, 23.99738890575191, 27.73814790799937, 18.29297585420565], \"Category\": [\"Default\", \"Default\", \"Default\", \"Default\", \"Default\", \"Default\", \"Default\", \"Default\", \"Default\", \"Default\", \"Default\", \"Default\", \"Default\", \"Default\", \"Default\", \"Default\", \"Default\", \"Default\", \"Default\", \"Default\", \"Default\", \"Default\", \"Default\", \"Default\", \"Default\", \"Default\", \"Default\", \"Default\", \"Default\", \"Default\", \"Topic1\", \"Topic1\", \"Topic1\", \"Topic1\", \"Topic1\", \"Topic1\", \"Topic1\", \"Topic1\", \"Topic1\", \"Topic1\", \"Topic1\", \"Topic1\", \"Topic1\", \"Topic1\", \"Topic1\", \"Topic1\", \"Topic1\", \"Topic1\", \"Topic1\", \"Topic1\", \"Topic1\", \"Topic1\", \"Topic1\", \"Topic1\", \"Topic1\", \"Topic1\", \"Topic1\", \"Topic1\", \"Topic1\", \"Topic1\", \"Topic1\", \"Topic1\", \"Topic1\", \"Topic1\", \"Topic1\", \"Topic1\", \"Topic1\", \"Topic1\", \"Topic1\", \"Topic1\", \"Topic1\", \"Topic1\", \"Topic1\", \"Topic1\", \"Topic1\", \"Topic1\", \"Topic1\", \"Topic1\", \"Topic1\", \"Topic1\", \"Topic1\", \"Topic1\", \"Topic1\", \"Topic1\", \"Topic1\", \"Topic1\", \"Topic1\", \"Topic1\", \"Topic1\", \"Topic1\", \"Topic1\", \"Topic1\", \"Topic1\", \"Topic1\", \"Topic1\", \"Topic1\", \"Topic1\", \"Topic1\", \"Topic1\", \"Topic1\", \"Topic1\", \"Topic1\", \"Topic1\", \"Topic1\", \"Topic1\", \"Topic1\", \"Topic1\", \"Topic1\", \"Topic1\", \"Topic1\", \"Topic1\", \"Topic1\", \"Topic2\", \"Topic2\", \"Topic2\", \"Topic2\", \"Topic2\", \"Topic2\", \"Topic2\", \"Topic2\", \"Topic2\", \"Topic2\", \"Topic2\", \"Topic2\", \"Topic2\", \"Topic2\", \"Topic2\", \"Topic2\", \"Topic2\", \"Topic2\", \"Topic2\", \"Topic2\", \"Topic2\", \"Topic2\", \"Topic2\", \"Topic2\", \"Topic2\", \"Topic2\", \"Topic2\", \"Topic2\", \"Topic2\", \"Topic2\", \"Topic2\", \"Topic2\", \"Topic2\", \"Topic2\", \"Topic2\", \"Topic2\", \"Topic2\", \"Topic2\", \"Topic2\", \"Topic2\", \"Topic2\", \"Topic2\", \"Topic2\", \"Topic2\", \"Topic2\", \"Topic2\", \"Topic2\", \"Topic2\", \"Topic2\", \"Topic2\", \"Topic2\", \"Topic2\", \"Topic2\", \"Topic2\", \"Topic2\", \"Topic2\", \"Topic2\", \"Topic2\", \"Topic2\", \"Topic2\", \"Topic2\", \"Topic2\", \"Topic2\", \"Topic2\", \"Topic2\", \"Topic2\", \"Topic2\", \"Topic2\", \"Topic2\", \"Topic2\", \"Topic2\", \"Topic2\", \"Topic2\", \"Topic2\", \"Topic2\", \"Topic2\", \"Topic3\", \"Topic3\", \"Topic3\", \"Topic3\", \"Topic3\", \"Topic3\", \"Topic3\", \"Topic3\", \"Topic3\", \"Topic3\", \"Topic3\", \"Topic3\", \"Topic3\", \"Topic3\", \"Topic3\", \"Topic3\", \"Topic3\", \"Topic3\", \"Topic3\", \"Topic3\", \"Topic3\", \"Topic3\", \"Topic3\", \"Topic3\", \"Topic3\", \"Topic3\", \"Topic3\", \"Topic3\", \"Topic3\", \"Topic3\", \"Topic3\", \"Topic3\", \"Topic3\", \"Topic3\", \"Topic3\", \"Topic3\", \"Topic3\", \"Topic3\", \"Topic3\", \"Topic3\", \"Topic3\", \"Topic3\", \"Topic3\", \"Topic3\", \"Topic3\", \"Topic3\", \"Topic3\", \"Topic3\", \"Topic3\", \"Topic3\", \"Topic3\", \"Topic3\", \"Topic3\", \"Topic3\", \"Topic3\", \"Topic3\", \"Topic3\", \"Topic3\", \"Topic3\", \"Topic3\", \"Topic3\", \"Topic3\", \"Topic3\", \"Topic3\", \"Topic3\", \"Topic3\", \"Topic3\", \"Topic3\", \"Topic3\", \"Topic3\", \"Topic3\", \"Topic3\", \"Topic3\", \"Topic3\", \"Topic4\", \"Topic4\", \"Topic4\", \"Topic4\", \"Topic4\", \"Topic4\", \"Topic4\", \"Topic4\", \"Topic4\", \"Topic4\", \"Topic4\", \"Topic4\", \"Topic4\", \"Topic4\", \"Topic4\", \"Topic4\", \"Topic4\", \"Topic4\", \"Topic4\", \"Topic4\", \"Topic4\", \"Topic4\", \"Topic4\", \"Topic4\", \"Topic4\", \"Topic4\", \"Topic4\", \"Topic4\", \"Topic4\", \"Topic4\", \"Topic4\", \"Topic4\", \"Topic4\", \"Topic4\", \"Topic4\", \"Topic4\", \"Topic4\", \"Topic4\", \"Topic4\", \"Topic4\", \"Topic4\", \"Topic4\", \"Topic4\", \"Topic4\", \"Topic4\", \"Topic4\", \"Topic4\", \"Topic4\", \"Topic4\", \"Topic4\", \"Topic4\", \"Topic4\", \"Topic4\", \"Topic4\", \"Topic4\", \"Topic4\", \"Topic4\", \"Topic4\", \"Topic4\", \"Topic4\", \"Topic4\", \"Topic4\", \"Topic4\", \"Topic4\", \"Topic4\", \"Topic4\", \"Topic4\", \"Topic4\", \"Topic4\", \"Topic4\", \"Topic4\", \"Topic4\", \"Topic4\", \"Topic5\", \"Topic5\", \"Topic5\", \"Topic5\", \"Topic5\", \"Topic5\", \"Topic5\", \"Topic5\", \"Topic5\", \"Topic5\", \"Topic5\", \"Topic5\", \"Topic5\", \"Topic5\", \"Topic5\", \"Topic5\", \"Topic5\", \"Topic5\", \"Topic5\", \"Topic5\", \"Topic5\", \"Topic5\", \"Topic5\", \"Topic5\", \"Topic5\", \"Topic5\", \"Topic5\", \"Topic5\", \"Topic5\", \"Topic5\", \"Topic5\", \"Topic5\", \"Topic5\", \"Topic5\", \"Topic5\", \"Topic5\", \"Topic5\", \"Topic5\", \"Topic5\", \"Topic5\", \"Topic5\", \"Topic5\", \"Topic5\", \"Topic5\", \"Topic5\", \"Topic5\", \"Topic5\", \"Topic5\", \"Topic5\", \"Topic5\", \"Topic5\", \"Topic5\", \"Topic5\", \"Topic5\", \"Topic5\", \"Topic5\", \"Topic5\", \"Topic5\", \"Topic5\", \"Topic5\", \"Topic5\", \"Topic5\", \"Topic5\", \"Topic5\", \"Topic5\", \"Topic5\", \"Topic5\", \"Topic5\", \"Topic5\", \"Topic5\"], \"logprob\": [30.0, 29.0, 28.0, 27.0, 26.0, 25.0, 24.0, 23.0, 22.0, 21.0, 20.0, 19.0, 18.0, 17.0, 16.0, 15.0, 14.0, 13.0, 12.0, 11.0, 10.0, 9.0, 8.0, 7.0, 6.0, 5.0, 4.0, 3.0, 2.0, 1.0, -6.9317, -7.2038, -7.204, -7.2041, -7.2043, -7.2044, -7.2045, -7.2058, -6.4576, -6.263, -7.5783, -7.5784, -7.5786, -7.5785, -7.5787, -7.5786, -7.5787, -7.5788, -7.5792, -7.5792, -7.5792, -7.5794, -7.5795, -7.5794, -7.5795, -7.5797, -7.5796, -7.5795, -7.5797, -7.5796, -6.3941, -6.413, -7.0858, -6.4394, -6.653, -7.3132, -6.932, -6.8037, -6.7985, -6.6014, -6.8285, -6.3577, -6.7186, -6.3642, -6.5261, -6.734, -6.4584, -6.2115, -6.4792, -7.3315, -6.1767, -6.5845, -6.0928, -5.8114, -5.7857, -5.4502, -6.0192, -6.2973, -5.7943, -5.7593, -5.978, -5.6816, -5.8676, -5.722, -6.1351, -6.2219, -5.8138, -5.4295, -5.8987, -6.2931, -6.0801, -6.2202, -6.0016, -5.6854, -6.0041, -5.8749, -5.9024, -6.0622, -6.1939, -6.2016, -6.2279, -6.2248, -6.8595, -7.1139, -6.503, -7.4886, -7.489, -7.4889, -7.4891, -7.489, -7.4892, -7.4894, -7.4892, -7.4896, -7.4895, -7.4896, -7.4898, -7.4897, -7.4903, -7.4908, -7.491, -7.4914, -7.4935, -7.4975, -7.5087, -7.5123, -7.5126, -7.2307, -7.5135, -7.5148, -7.2294, -6.6801, -5.5421, -6.8619, -6.7309, -6.1683, -6.7595, -5.8002, -6.5408, -6.9244, -5.6941, -6.2317, -6.0505, -5.8207, -5.7192, -6.4844, -6.3087, -6.8427, -5.9879, -6.845, -5.4798, -6.6646, -6.0125, -6.4082, -6.6149, -7.1144, -5.6136, -6.1096, -5.9369, -6.4961, -6.08, -5.4376, -5.9491, -5.7912, -6.5097, -6.2673, -5.9356, -6.2018, -5.4416, -5.8825, -5.9451, -5.7256, -6.085, -5.9331, -5.9852, -6.1187, -6.1964, -6.2665, -6.786, -6.7864, -7.0543, -7.0545, -7.0642, -7.0674, -5.7144, -7.1379, -7.1395, -7.4277, -7.4276, -7.4278, -7.4278, -7.4277, -7.428, -7.4281, -7.4283, -7.4283, -7.4283, -7.4286, -7.4289, -7.4291, -7.4294, -7.4299, -7.4299, -7.4329, -7.4529, -7.4541, -7.1745, -7.464, -6.97, -6.2172, -6.9871, -7.0053, -6.3717, -7.2037, -6.0584, -6.0312, -6.3387, -5.9496, -5.7967, -6.9276, -5.6578, -7.0596, -5.952, -7.0555, -6.3907, -6.2123, -6.8383, -6.8309, -5.003, -5.7184, -5.8414, -5.3505, -5.9203, -5.6536, -5.6658, -6.1967, -5.8585, -6.2825, -5.9216, -6.4229, -6.2055, -6.5939, -5.7707, -6.3711, -5.9835, -5.6839, -5.831, -6.3138, -6.2881, -6.093, -6.1363, -6.3013, -6.964, -6.9779, -6.9805, -6.986, -7.0356, -7.3367, -7.3371, -7.3372, -7.3373, -7.3373, -7.3374, -7.3375, -7.3376, -7.3377, -7.3379, -7.3378, -7.338, -7.3385, -7.3389, -7.3391, -7.3402, -7.3413, -7.3729, -6.6757, -7.3759, -6.6937, -7.3805, -6.6914, -7.4175, -7.4361, -5.5009, -5.7956, -6.4827, -5.4059, -6.9781, -4.6678, -6.727, -5.5829, -6.9628, -5.2758, -6.5795, -4.9903, -7.0035, -5.8924, -6.787, -6.8926, -6.0289, -6.4126, -6.3842, -6.3691, -6.105, -6.5599, -5.5102, -6.1521, -5.7356, -5.9041, -5.8612, -5.8987, -6.3771, -6.0482, -6.2741, -6.4221, -5.8106, -6.1712, -6.0701, -6.197, -6.1567, -6.3273, -6.2327, -6.2543, -6.2714, -6.3109, -6.3131, -6.723, -6.724, -6.995, -6.9951, -6.9954, -6.9958, -6.9958, -7.3695, -7.3694, -7.3696, -7.3699, -7.3699, -7.3698, -7.3699, -7.3703, -7.3702, -7.3703, -7.3704, -7.3707, -7.3707, -7.3708, -7.3713, -7.0891, -7.1023, -7.4071, -7.4141, -7.4353, -7.1529, -7.4386, -7.4391, -6.7648, -6.0747, -7.1778, -6.4874, -6.9946, -6.0532, -5.7023, -6.0696, -5.7121, -5.8587, -4.948, -6.452, -5.4605, -5.3795, -6.6371, -6.3495, -5.6292, -6.9229, -6.446, -6.2838, -6.7547, -5.4927, -6.2331, -6.0476, -5.8965, -5.9204, -5.743, -5.8044, -5.621, -5.8619, -5.4631, -5.9447, -6.1038, -6.1084, -5.9521, -5.9879, -6.1347, -6.0927, -6.1491, -6.2407], \"loglift\": [30.0, 29.0, 28.0, 27.0, 26.0, 25.0, 24.0, 23.0, 22.0, 21.0, 20.0, 19.0, 18.0, 17.0, 16.0, 15.0, 14.0, 13.0, 12.0, 11.0, 10.0, 9.0, 8.0, 7.0, 6.0, 5.0, 4.0, 3.0, 2.0, 1.0, 1.2473, 1.2017, 1.2016, 1.2014, 1.2013, 1.2012, 1.201, 1.1999, 1.1438, 1.136, 1.1205, 1.1204, 1.1203, 1.1203, 1.1202, 1.1201, 1.1201, 1.1201, 1.1197, 1.1196, 1.1196, 1.1195, 1.1195, 1.1194, 1.1194, 1.1194, 1.1194, 1.1193, 1.1193, 1.1193, 1.103, 1.0848, 1.1032, 1.0564, 1.0639, 1.1029, 1.0772, 1.0566, 1.0553, 1.0146, 1.0271, 0.9646, 1.0088, 0.9579, 0.975, 0.9966, 0.9489, 0.9023, 0.93, 1.0792, 0.8604, 0.9166, 0.7815, 0.6734, 0.6343, 0.4922, 0.7082, 0.8131, 0.5735, 0.4852, 0.5958, 0.43, 0.3797, 0.2702, 0.5515, 0.6167, 0.2542, -0.1024, 0.1601, 0.6323, 0.3395, 0.5132, 0.1558, -0.476, 0.0777, -0.1903, -0.2446, -0.0208, 0.2476, 0.1084, 0.0795, 0.0207, 1.3935, 1.3603, 1.2848, 1.2714, 1.2711, 1.2711, 1.2711, 1.271, 1.271, 1.2708, 1.2708, 1.2706, 1.2705, 1.2704, 1.2703, 1.2703, 1.2699, 1.2694, 1.2692, 1.2688, 1.2665, 1.2628, 1.2519, 1.2485, 1.2482, 1.2474, 1.2474, 1.2461, 1.2384, 1.2343, 1.1318, 1.2054, 1.1921, 1.1205, 1.1528, 1.0069, 1.1179, 1.1407, 0.8308, 0.9126, 0.8538, 0.7604, 0.7247, 0.9641, 0.9037, 1.0662, 0.7753, 1.0592, 0.6002, 0.9922, 0.745, 0.8742, 0.9409, 1.1287, 0.5439, 0.7035, 0.6134, 0.87, 0.6282, 0.2202, 0.4187, 0.2676, 0.8579, 0.6279, 0.3089, 0.5605, -0.2322, 0.1588, 0.1174, -0.3984, 0.1624, -0.1513, -0.3006, -0.0507, -0.2041, -0.0537, 1.4303, 1.4301, 1.3862, 1.386, 1.3765, 1.3737, 1.3354, 1.3078, 1.3045, 1.3022, 1.3022, 1.3021, 1.3021, 1.302, 1.3018, 1.3017, 1.3017, 1.3017, 1.3016, 1.3014, 1.3013, 1.3009, 1.3005, 1.3002, 1.3002, 1.2973, 1.2779, 1.2767, 1.271, 1.2648, 1.2527, 1.2182, 1.2341, 1.2184, 1.0703, 1.2403, 0.8987, 0.8632, 0.928, 0.7862, 0.7163, 1.1159, 0.6221, 1.1633, 0.7012, 1.1514, 0.8741, 0.796, 1.0577, 1.0529, 0.2064, 0.5271, 0.5782, 0.3341, 0.5819, 0.4144, 0.3968, 0.7081, 0.4489, 0.7261, 0.3721, 0.7753, 0.5402, 0.9172, 0.0112, 0.6277, 0.1281, -0.3567, -0.1732, 0.5332, 0.4122, -0.1507, -0.095, -0.2195, 1.5002, 1.4859, 1.4841, 1.4778, 1.4268, 1.4144, 1.4141, 1.4141, 1.4139, 1.4138, 1.4138, 1.4137, 1.4135, 1.4134, 1.4133, 1.4133, 1.413, 1.4129, 1.4123, 1.4122, 1.4112, 1.4101, 1.3787, 1.3785, 1.3757, 1.3752, 1.3682, 1.3634, 1.3369, 1.3189, 1.1727, 1.1053, 1.1688, 0.8964, 1.2745, 0.5416, 1.1939, 0.7271, 1.2629, 0.5061, 1.0799, 0.3369, 1.2413, 0.618, 1.1146, 1.1691, 0.6722, 0.8787, 0.8364, 0.7746, 0.597, 0.8967, 0.1476, 0.6011, 0.2567, 0.3086, 0.2205, 0.1812, 0.6794, 0.2317, 0.5274, 0.7265, -0.126, 0.2791, 0.0414, 0.223, 0.0008, 0.4062, 0.0906, -0.3119, -0.2126, -0.0654, -0.2505, 1.5637, 1.5625, 1.5114, 1.5113, 1.511, 1.5106, 1.5106, 1.419, 1.419, 1.4188, 1.4187, 1.4186, 1.4185, 1.4185, 1.4184, 1.4184, 1.4182, 1.4182, 1.4178, 1.4176, 1.4175, 1.4173, 1.4143, 1.3981, 1.379, 1.3717, 1.3489, 1.3461, 1.3456, 1.3449, 1.3308, 1.1662, 1.3124, 1.1903, 1.274, 1.0443, 0.9437, 0.9055, 0.7381, 0.7815, 0.3791, 1.0209, 0.4819, 0.4024, 1.0389, 0.8783, 0.4121, 1.1491, 0.8509, 0.7376, 1.0368, 0.192, 0.6854, 0.5447, 0.3972, 0.4029, 0.2493, 0.2756, 0.0368, 0.2199, -0.2537, 0.2681, 0.4092, 0.3938, 0.1067, 0.0747, 0.3068, 0.2096, 0.0084, 0.333]}, \"token.table\": {\"Topic\": [1, 2, 4, 2, 3, 4, 5, 2, 3, 5, 1, 2, 3, 4, 5, 3, 1, 2, 2, 1, 3, 4, 3, 2, 4, 1, 2, 3, 4, 5, 3, 1, 2, 3, 4, 5, 3, 1, 2, 3, 4, 5, 1, 2, 3, 5, 1, 2, 3, 4, 5, 2, 3, 5, 1, 2, 3, 5, 1, 2, 3, 4, 5, 1, 2, 2, 3, 4, 5, 1, 2, 3, 4, 5, 5, 1, 2, 5, 1, 2, 3, 4, 5, 1, 2, 3, 4, 5, 3, 1, 2, 3, 4, 5, 1, 2, 3, 4, 5, 2, 1, 2, 4, 2, 5, 1, 2, 3, 4, 5, 3, 1, 2, 3, 4, 5, 1, 5, 3, 1, 2, 3, 4, 5, 2, 1, 2, 3, 4, 5, 1, 2, 4, 5, 4, 4, 1, 2, 3, 4, 5, 5, 1, 2, 1, 1, 2, 3, 1, 2, 3, 4, 5, 1, 2, 3, 4, 5, 1, 1, 3, 4, 1, 2, 3, 4, 2, 3, 1, 2, 3, 4, 5, 5, 1, 2, 3, 4, 5, 5, 2, 4, 2, 2, 3, 2, 1, 2, 3, 4, 5, 2, 1, 2, 3, 4, 5, 2, 1, 2, 3, 4, 5, 1, 1, 1, 5, 1, 2, 3, 4, 5, 2, 5, 1, 5, 1, 2, 4, 5, 2, 4, 4, 5, 1, 2, 3, 4, 5, 5, 1, 2, 4, 5, 1, 2, 3, 4, 5, 1, 2, 3, 4, 5, 1, 2, 3, 4, 2, 4, 5, 3, 2, 5, 1, 4, 3, 1, 2, 3, 4, 5, 3, 4, 2, 1, 2, 3, 4, 5, 1, 2, 3, 4, 5, 1, 2, 3, 4, 5, 1, 1, 2, 3, 4, 5, 1, 2, 3, 4, 5, 1, 2, 3, 4, 5, 3, 1, 2, 3, 4, 5, 2, 2, 3, 1, 2, 3, 2, 3, 4, 2, 3, 4, 1, 2, 3, 4, 1, 2, 3, 4, 5, 2, 1, 2, 3, 4, 5, 1, 2, 3, 4, 5, 1, 2, 3, 4, 5, 2, 4, 1, 2, 3, 4, 5, 2, 3, 1, 2, 3, 4, 5, 2, 3, 4, 5, 1, 1, 1, 1, 2, 3, 4, 5, 1, 3, 5, 5, 1, 4, 1, 2, 3, 4, 5, 2, 2, 4, 1, 2, 3, 4, 5, 2, 3, 1, 2, 3, 4, 5, 4, 3, 1, 2, 3, 4, 5, 4, 3, 1, 2, 3, 4, 3, 4, 1, 2, 3, 5, 4, 3, 4, 3, 1, 3, 5, 4, 1, 2, 3, 4, 5, 4, 5, 3, 5, 1, 5, 1, 2, 3, 4, 5, 5, 1, 2, 3, 4, 5, 1, 2, 3, 4, 5, 5, 5, 1, 2, 3, 4, 5, 3, 4, 1, 2, 4, 2, 1, 4, 1, 2, 3, 4, 5, 1, 2, 3, 4, 1, 2, 3, 4, 5, 3, 4, 1, 2, 3, 4, 5, 5, 3, 4, 1, 1, 5, 1, 2, 3, 4, 5, 2, 1, 2, 3, 4, 5, 1, 2, 3, 4, 5, 1, 3, 1, 2, 3, 4, 5, 1, 2, 3, 4, 5, 1, 2, 3, 1, 2, 4, 5, 1, 2, 3, 4, 5, 3, 1, 2, 3, 4, 5, 1, 2, 3, 4, 5, 4, 1, 2, 3, 4, 5, 1, 2, 3, 4, 5, 4, 5, 1, 2, 3, 5, 5, 1, 2, 3, 4, 5, 1, 2, 4, 5, 1, 2, 3, 4, 5, 1, 2, 3, 4, 5, 2, 3, 4, 2, 4, 3, 3, 2, 2, 1, 2, 4, 5, 2, 5, 3, 1, 2, 3, 4, 5, 4, 1, 2, 3, 4, 1, 2, 3, 4, 5, 3, 2, 4, 5, 1, 2, 3, 5, 2, 3, 5, 5, 1, 4, 1, 2, 3, 4, 5, 1, 2, 3, 4, 5, 1, 3, 4, 1, 1, 3, 5, 1, 2, 3, 4, 3, 3, 1, 1, 1, 2, 3, 4, 5, 4, 4, 5, 5, 1, 2, 3, 4, 5, 2, 3, 4, 5, 3, 1, 2, 4, 5, 1, 5, 4, 2, 5, 2, 3, 4, 4, 1, 2, 3, 4, 5, 1, 5, 1, 2, 3, 4, 5, 3, 1, 2, 1, 2, 3, 5, 1, 2, 3, 4, 5, 2, 3, 1, 2, 3, 4, 5, 1, 2, 3, 4, 5, 1, 3, 5, 1, 2, 3, 4, 5, 4, 1, 2, 3, 4, 5, 5, 4, 4, 4, 5, 4, 2, 3, 4, 5, 1, 2, 3, 4, 5, 2, 3, 5, 1, 1, 3, 4, 5, 1, 1, 4, 5, 1, 1, 1, 3, 1, 1, 2, 4, 5, 1, 1, 1, 2, 3, 4, 1, 1, 2, 4, 1, 1, 2, 3, 4, 5, 1, 4, 5, 2], \"Freq\": [0.0967113252135305, 0.4835566260676525, 0.386845300854122, 0.20508365963713845, 0.6152509789114153, 0.20508365963713845, 0.20508365963713845, 0.1293905933978265, 0.6469529669891324, 0.1293905933978265, 0.19050654769850076, 0.19050654769850076, 0.15240523815880058, 0.2286078572382009, 0.2286078572382009, 0.9444640982652639, 0.6881366606989049, 0.13762733213978098, 0.4866614177643997, 0.5527269374769138, 0.13818173436922845, 0.2763634687384569, 0.9443930316104215, 0.2420501804298781, 0.4841003608597562, 0.2022077896945579, 0.15727272531798947, 0.26961038625941053, 0.15727272531798947, 0.2022077896945579, 0.9444181252668582, 0.08441772830410305, 0.1688354566082061, 0.42208864152051523, 0.1688354566082061, 0.08441772830410305, 0.9433543765210004, 0.03336142940210773, 0.366975723423185, 0.16680714701053864, 0.20016857641264638, 0.2335300058147541, 0.24182697022883187, 0.48365394045766374, 0.12091348511441594, 0.24182697022883187, 0.37877509683090754, 0.10330229913570205, 0.2410386979833048, 0.17217049855950342, 0.10330229913570205, 0.4866988401431815, 0.2976963128468185, 0.595392625693637, 0.6933348545648406, 0.1155558090941401, 0.1155558090941401, 0.1155558090941401, 0.3053488308426678, 0.050891471807111295, 0.3562403026497791, 0.050891471807111295, 0.25445735903555644, 0.6930823238097253, 0.17327058095243134, 0.16188057784060852, 0.16188057784060852, 0.48564173352182555, 0.16188057784060852, 0.19685300837427658, 0.26247067783236877, 0.17498045188824585, 0.19685300837427658, 0.17498045188824585, 0.500725971101638, 0.6827608485315584, 0.486698834918036, 0.5005949413622348, 0.39329488042037436, 0.27530641629426206, 0.15731795216814976, 0.07865897608407488, 0.07865897608407488, 0.21358652523681373, 0.37377641916442406, 0.16018989392761032, 0.10679326261840687, 0.16018989392761032, 0.7070648240017533, 0.1933106576814092, 0.1933106576814092, 0.0966553288407046, 0.3866213153628184, 0.1933106576814092, 0.13212833074363392, 0.46244915760271876, 0.13212833074363392, 0.13212833074363392, 0.13212833074363392, 0.4865987005887207, 0.2062563382980175, 0.2062563382980175, 0.6187690148940526, 0.48697692499369394, 0.5007040045785449, 0.10651751995964484, 0.10651751995964484, 0.10651751995964484, 0.21303503991928968, 0.5325875997982242, 0.9444034808803641, 0.3847629908695581, 0.1282543302898527, 0.1282543302898527, 0.2565086605797054, 0.06412716514492635, 0.9155894179870223, 0.5006246752520506, 0.944407535728799, 0.43732633026795137, 0.05466579128349392, 0.10933158256698784, 0.10933158256698784, 0.21866316513397568, 0.48661338021242956, 0.2367386485162338, 0.05918466212905845, 0.4142926349034091, 0.1183693242581169, 0.1183693242581169, 0.16486831846457176, 0.16486831846457176, 0.16486831846457176, 0.4946049553937153, 0.9648275053930199, 0.9647855423084276, 0.052062238266387575, 0.46856014439748817, 0.26031119133193786, 0.10412447653277515, 0.1561867147991627, 0.4985136639643991, 0.6886085339890645, 0.1377217067978129, 0.9154586131496681, 0.6872627405739063, 0.13745254811478125, 0.13745254811478125, 0.2512935223904126, 0.20941126865867715, 0.33505802985388344, 0.08376450746347086, 0.1256467611952063, 0.4283817302696823, 0.18359217011557813, 0.18359217011557813, 0.12239478007705208, 0.06119739003852604, 0.9154700290432151, 0.2798839681515463, 0.5597679363030926, 0.722755288770502, 0.2657443080567395, 0.17716287203782635, 0.08858143601891318, 0.3543257440756527, 0.4866790830654358, 0.9443613091310117, 0.25653374994171724, 0.2052269999533738, 0.05130674998834345, 0.3078404999300607, 0.15392024996503034, 0.7552015821674424, 0.07716454919113677, 0.23149364757341032, 0.23149364757341032, 0.07716454919113677, 0.3086581967645471, 0.7552005239289141, 0.48688325480885586, 0.9645737352126388, 0.7341369163059925, 0.620346074508167, 0.41356404967211136, 0.4866126841639076, 0.09713317544014449, 0.19426635088028898, 0.09713317544014449, 0.38853270176057797, 0.19426635088028898, 0.4870561735082829, 0.21819969533591946, 0.10909984766795973, 0.4363993906718389, 0.10909984766795973, 0.10909984766795973, 0.48659614780890403, 0.9155650012673768, 0.24061955062870374, 0.4812391012574075, 0.16041303375246915, 0.16041303375246915, 0.9154941416325446, 0.9155222677126051, 0.6200640368107695, 0.15501600920269237, 0.3279982252260505, 0.14057066795402165, 0.37485511454405773, 0.09371377863601443, 0.04685688931800722, 0.7362351201187767, 0.18405878002969417, 0.79162221169421, 0.1979055529235525, 0.16176641480067852, 0.6470656592027141, 0.16176641480067852, 0.49931876607164444, 0.2906867235196528, 0.5813734470393056, 0.9646844822638522, 0.752925159614302, 0.22275592407001935, 0.22275592407001935, 0.16706694305251452, 0.11137796203500967, 0.2784449050875242, 0.49852754305508695, 0.20706191181235778, 0.5176547795308944, 0.10353095590617889, 0.20706191181235778, 0.08334240061928662, 0.12501360092892994, 0.12501360092892994, 0.4167120030964331, 0.20835600154821654, 0.2246862131235384, 0.2246862131235384, 0.19258818267731861, 0.06419606089243954, 0.25678424356975815, 0.12085087290156346, 0.6042543645078173, 0.12085087290156346, 0.12085087290156346, 0.6267280478798894, 0.20890934929329646, 0.755193829151045, 0.7105588021056611, 0.6321500019495107, 0.21071666731650357, 0.28520310246719993, 0.5704062049343999, 0.70705067530644, 0.19622941936861488, 0.19622941936861488, 0.13081961291240993, 0.32704903228102483, 0.13081961291240993, 0.5688214011459023, 0.28441070057295115, 0.4867325459417339, 0.1343450198159391, 0.2686900396318782, 0.1343450198159391, 0.1343450198159391, 0.5373800792637564, 0.3056173952303041, 0.15280869761515206, 0.06112347904606082, 0.2444939161842433, 0.21393217666121286, 0.6900326357536943, 0.16061190805544737, 0.16061190805544737, 0.6424476322217895, 0.5005910157056241, 0.6828432867109322, 0.18643560654785962, 0.18643560654785962, 0.2485808087304795, 0.31072601091309937, 0.062145202182619874, 0.46874931139280474, 0.09374986227856096, 0.14062479341784143, 0.23437465569640237, 0.09374986227856096, 0.14369094471592223, 0.21553641707388335, 0.3592273617898056, 0.07184547235796111, 0.14369094471592223, 0.9446067401610941, 0.22614752811155653, 0.37691254685259423, 0.22614752811155653, 0.07538250937051885, 0.07538250937051885, 0.48659121314823817, 0.2843318952481202, 0.5686637904962404, 0.6301828255653641, 0.25207313022614564, 0.12603656511307282, 0.625404332708151, 0.208468110902717, 0.208468110902717, 0.23768154448451084, 0.7130446334535325, 0.23768154448451084, 0.2025955962991197, 0.2025955962991197, 0.607786788897359, 0.2025955962991197, 0.22001476041947854, 0.14143806026966477, 0.14143806026966477, 0.25144544047940404, 0.25144544047940404, 0.7312892932888332, 0.31267095181485793, 0.37520514217782946, 0.06253419036297159, 0.06253419036297159, 0.18760257108891473, 0.50992191150342, 0.1912207168137825, 0.127480477875855, 0.0637402389379275, 0.0637402389379275, 0.23621288862825202, 0.1968440738568767, 0.35431933294237805, 0.15747525908550133, 0.039368814771375334, 0.7302482525315794, 0.4838606758405333, 0.15215195438257315, 0.4564558631477194, 0.15215195438257315, 0.2282279315738597, 0.07607597719128657, 0.7266360483347046, 0.944519215335657, 0.1310994882756807, 0.5243979531027227, 0.1310994882756807, 0.2621989765513614, 0.9093817865595674, 0.1321688574271569, 0.2643377148543138, 0.3965065722814707, 0.1321688574271569, 0.9153878863354732, 0.6827715428811977, 0.6827265572117427, 0.26738427697276146, 0.13369213848638073, 0.1671151731079759, 0.2339612423511663, 0.20053820772957112, 0.748601498198441, 0.12476691636640684, 0.12476691636640684, 0.909284587714339, 0.686293314211942, 0.7240143060802805, 0.2037327221408562, 0.08149308885634247, 0.36671889985354117, 0.2037327221408562, 0.12223963328451372, 0.8792720740507953, 0.48700846743067405, 0.9647297411334117, 0.3352351347061964, 0.23945366764728315, 0.14367220058836988, 0.09578146705891326, 0.23945366764728315, 0.486735809813067, 0.8477359295695197, 0.16524640490791737, 0.16524640490791737, 0.2891812085888554, 0.12393480368093802, 0.24786960736187605, 0.9646931919946717, 0.9442967388425608, 0.0660022041683693, 0.33001102084184647, 0.1980066125051079, 0.2640088166734772, 0.1320044083367386, 0.7237303121636331, 0.9443121764050902, 0.11103601865740316, 0.44414407462961264, 0.22207203731480632, 0.22207203731480632, 0.7095363831481318, 0.9648630085218757, 0.11684324732577427, 0.1752648709886614, 0.29210811831443567, 0.3505297419773228, 0.7237786995795248, 0.9445367618258452, 0.9647197445211868, 0.7071728964975122, 0.6290584775822886, 0.2516233910329155, 0.12581169551645774, 0.9646048180305747, 0.10513659558150976, 0.2102731911630195, 0.10513659558150976, 0.10513659558150976, 0.420546382326039, 0.9648576067217659, 0.5006996499146209, 0.9452538479534967, 0.5006289158268247, 0.682759661772261, 0.755220964534325, 0.2898875434853439, 0.04831459058089065, 0.0966291811617813, 0.24157295290445327, 0.3865167246471252, 0.5007223627966685, 0.19708570754431773, 0.45986665093674134, 0.06569523584810591, 0.19708570754431773, 0.06569523584810591, 0.16724078548099727, 0.16724078548099727, 0.33448157096199455, 0.2508611782214959, 0.08362039274049864, 0.5006661908877567, 0.7495882952811447, 0.40702520352158295, 0.029073228822970212, 0.17443937293782127, 0.11629291529188085, 0.2907322882297021, 0.24024859704108223, 0.7207457911232467, 0.11175008938385962, 0.6705005363031578, 0.22350017876771924, 0.4866233003697636, 0.5909338681857239, 0.196977956061908, 0.2481696028824538, 0.1240848014412269, 0.3102120036030672, 0.18612720216184034, 0.1240848014412269, 0.10206946153768061, 0.20413892307536122, 0.40827784615072243, 0.30620838461304184, 0.15064584405671708, 0.07532292202835854, 0.4519375321701512, 0.15064584405671708, 0.15064584405671708, 0.9452215286594718, 0.9646012962599552, 0.2519409577614647, 0.20995079813455392, 0.08398031925382157, 0.37791143664219706, 0.08398031925382157, 0.5006265023204803, 0.2403994567803588, 0.7211983703410764, 0.9156991703062842, 0.6828208073106314, 0.5006502816326412, 0.16333542483269436, 0.16333542483269436, 0.08166771241634718, 0.16333542483269436, 0.4083385620817359, 0.48664732729318366, 0.138065269421846, 0.552261077687384, 0.069032634710923, 0.138065269421846, 0.069032634710923, 0.4448981104281273, 0.31142867729968915, 0.04448981104281274, 0.04448981104281274, 0.17795924417125095, 0.9155275356856101, 0.7095410014894554, 0.13728363699939763, 0.27456727399879527, 0.20592545549909644, 0.27456727399879527, 0.06864181849969882, 0.3549718653068663, 0.23664791020457754, 0.15776527346971836, 0.11832395510228877, 0.11832395510228877, 0.10930687401701146, 0.21861374803402292, 0.5465343700850573, 0.1847366030870619, 0.1847366030870619, 0.1847366030870619, 0.5542098092611858, 0.09229238159433353, 0.09229238159433353, 0.18458476318866707, 0.09229238159433353, 0.46146190797166764, 0.9446595030338274, 0.15366553926980386, 0.16763513374887695, 0.25145270062331543, 0.3073310785396077, 0.13969594479073077, 0.12073083846434234, 0.48292335385736934, 0.24146167692868467, 0.12073083846434234, 0.12073083846434234, 0.48254022044920786, 0.21276212173793413, 0.1702096973903473, 0.12765727304276048, 0.21276212173793413, 0.25531454608552095, 0.12081183936733268, 0.06040591968366634, 0.12081183936733268, 0.543653277152997, 0.18121775905099904, 0.7314011048221806, 0.24380036827406018, 0.17627118439463088, 0.23502824585950785, 0.11751412292975393, 0.4700564917190157, 0.5007589154094161, 0.5609683869597606, 0.0934947311599601, 0.0934947311599601, 0.0934947311599601, 0.0934947311599601, 0.288411469523273, 0.3605143369040913, 0.18025716845204565, 0.18025716845204565, 0.1947774156991078, 0.12985161046607188, 0.3246290261651797, 0.1947774156991078, 0.12985161046607188, 0.07611307869097533, 0.15222615738195067, 0.38056539345487667, 0.15222615738195067, 0.228339236072926, 0.6232508143410296, 0.2077502714470099, 0.2077502714470099, 0.48671154568719477, 0.48255340538203423, 0.9442816741556097, 0.8475640732101665, 0.4866883349872716, 0.7285868303315848, 0.42746611006849483, 0.21373305503424742, 0.14248870335616495, 0.21373305503424742, 0.48670636226794034, 0.7552320191177946, 0.5692382003733831, 0.25658438998791383, 0.17105625999194254, 0.08552812999597127, 0.08552812999597127, 0.3421125199838851, 0.9646269874194254, 0.07581985237872753, 0.15163970475745506, 0.15163970475745506, 0.5307389666510928, 0.13115182997465497, 0.22951570245564618, 0.2950916174429737, 0.13115182997465497, 0.19672774496198245, 0.9443622513252823, 0.48698084071342473, 0.6308146343416281, 0.21027154478054272, 0.14594921072798703, 0.5837968429119481, 0.14594921072798703, 0.14594921072798703, 0.48666506522727976, 0.707468047776447, 0.7507502465799606, 0.4994738349790343, 0.7864271207744702, 0.19660678019361755, 0.08444719264840832, 0.25334157794522494, 0.4222359632420416, 0.08444719264840832, 0.08444719264840832, 0.15433684396987285, 0.10289122931324858, 0.4115649172529943, 0.10289122931324858, 0.2572280732831214, 0.2791372945318696, 0.5582745890637392, 0.1395686472659348, 0.9154633325181789, 0.2445662901701693, 0.2445662901701693, 0.4891325803403386, 0.46622559970047395, 0.23311279985023697, 0.23311279985023697, 0.07770426661674566, 0.9441830364851037, 0.9443540704468687, 0.915614869870907, 0.9155219306200298, 0.13889202447304874, 0.4166760734191462, 0.13889202447304874, 0.13889202447304874, 0.2083380367095731, 0.9647960681578707, 0.2503911209579142, 0.7511733628737427, 0.7431119151631366, 0.5000925775888467, 0.05000925775888468, 0.20003703103553871, 0.20003703103553871, 0.10001851551776936, 0.10438388007404518, 0.20876776014809037, 0.41753552029618074, 0.20876776014809037, 0.7107772962204226, 0.16460497659088616, 0.16460497659088616, 0.16460497659088616, 0.49381492977265845, 0.9153912110059098, 0.500630600446914, 0.9647326981188423, 0.48669193953831225, 0.4984296276482136, 0.2839157694992063, 0.5678315389984127, 0.9645703573782259, 0.48112561955463073, 0.32963759323725106, 0.1977825559423506, 0.2966738339135259, 0.06592751864745021, 0.13185503729490042, 0.6829275299788908, 0.5007009068399033, 0.24004947420714523, 0.4320890535728614, 0.0960197896828581, 0.14402968452428713, 0.0960197896828581, 0.9443098967768883, 0.6890237542610843, 0.22967458475369476, 0.1302551898621563, 0.1302551898621563, 0.5210207594486252, 0.2605103797243126, 0.22531240866571897, 0.11265620433285949, 0.11265620433285949, 0.11265620433285949, 0.45062481733143794, 0.5803871971548121, 0.29019359857740606, 0.248359627189545, 0.18626972039215875, 0.1241798135947725, 0.3725394407843175, 0.06208990679738625, 0.192841645607469, 0.128561097071646, 0.44996383975076104, 0.192841645607469, 0.064280548535823, 0.17599420623259235, 0.7919739280466656, 0.08799710311629617, 0.27532999091191124, 0.44052798545905797, 0.11013199636476449, 0.11013199636476449, 0.055065998182382246, 0.9646692640441162, 0.29397400484933933, 0.26131022653274605, 0.09799133494977978, 0.13065511326637302, 0.19598266989955956, 0.5006882945286465, 0.7242754644591444, 0.9646337045678456, 0.5859029114057214, 0.2929514557028607, 0.4841862953610899, 0.11203246899052759, 0.22406493798105517, 0.44812987596211035, 0.22406493798105517, 0.0742891940243967, 0.1733414527235923, 0.19810451739839122, 0.2971567760975868, 0.24763064674798901, 0.48434316057051363, 0.3228954403803424, 0.1614477201901712, 0.8164923859111233, 0.6909012795942922, 0.13818025591885844, 0.13818025591885844, 0.13818025591885844, 0.8247278013863535, 0.7637663861256243, 0.15275327722512486, 0.15275327722512486, 0.9154619715174557, 0.915415033276657, 0.6858393677668312, 0.1714598419417078, 0.9154810580665746, 0.5628391328805424, 0.09380652214675708, 0.09380652214675708, 0.2814195664402712, 0.9156570578582326, 0.9156001815353999, 0.6081717382908916, 0.1737633537973976, 0.0868816768986988, 0.1737633537973976, 0.9154600145380735, 0.6932449378347185, 0.11554082297245308, 0.23108164594490616, 0.9155714099703891, 0.5168213784310841, 0.07383162549015487, 0.14766325098030975, 0.07383162549015487, 0.14766325098030975, 0.6953074505945566, 0.17382686264863914, 0.17382686264863914, 0.48659786050447956], \"Term\": [\"aa\", \"aa\", \"aa\", \"aaj\", \"aaj\", \"aaj\", \"aaj\", \"aap\", \"aap\", \"aap\", \"ab\", \"ab\", \"ab\", \"ab\", \"ab\", \"abad\", \"abroad\", \"abroad\", \"accepted\", \"across\", \"across\", \"across\", \"acting\", \"afganistan\", \"afganistan\", \"allah\", \"allah\", \"allah\", \"allah\", \"allah\", \"alone\", \"always\", \"always\", \"always\", \"always\", \"always\", \"amazing\", \"america\", \"america\", \"america\", \"america\", \"america\", \"american\", \"american\", \"american\", \"american\", \"amp\", \"amp\", \"amp\", \"amp\", \"amp\", \"ana\", \"anchors\", \"anchors\", \"anyone\", \"anyone\", \"anyone\", \"anyone\", \"ap\", \"ap\", \"ap\", \"ap\", \"ap\", \"apko\", \"apko\", \"apne\", \"apne\", \"apne\", \"apne\", \"army\", \"army\", \"army\", \"army\", \"army\", \"art\\u0131k\", \"asked\", \"assets\", \"asyazzale\", \"aur\", \"aur\", \"aur\", \"aur\", \"aur\", \"awam\", \"awam\", \"awam\", \"awam\", \"awam\", \"backed\", \"bad\", \"bad\", \"bad\", \"bad\", \"bad\", \"bajwa\", \"bajwa\", \"bajwa\", \"bajwa\", \"bajwa\", \"balochi\", \"bas\", \"bas\", \"bas\", \"bbcurdu\", \"bcoz\", \"become\", \"become\", \"become\", \"become\", \"become\", \"bhe\", \"bhi\", \"bhi\", \"bhi\", \"bhi\", \"bhi\", \"bollywood\", \"cant\", \"card\", \"change\", \"change\", \"change\", \"change\", \"change\", \"chuka\", \"come\", \"come\", \"come\", \"come\", \"come\", \"confidence\", \"confidence\", \"confidence\", \"confidence\", \"congratulations\", \"constructed\", \"corrupt\", \"corrupt\", \"corrupt\", \"corrupt\", \"corrupt\", \"corruption\", \"could\", \"could\", \"count\", \"countries\", \"countries\", \"countries\", \"country\", \"country\", \"country\", \"country\", \"country\", \"court\", \"court\", \"court\", \"court\", \"court\", \"coz\", \"crime\", \"crime\", \"criminals\", \"crowd\", \"crowd\", \"crowd\", \"crowd\", \"crypto\", \"culprit\", \"da\", \"da\", \"da\", \"da\", \"da\", \"daughter\", \"de\", \"de\", \"de\", \"de\", \"de\", \"degy\", \"desial\", \"disrespect\", \"doller\", \"dualar\\u0131m\\u0131z\", \"dualar\\u0131m\\u0131z\", \"earn\", \"election\", \"election\", \"election\", \"election\", \"election\", \"events\", \"every\", \"every\", \"every\", \"every\", \"every\", \"fast\", \"feature\", \"fight\", \"fight\", \"fight\", \"fight\", \"frm\", \"fuke\", \"future\", \"future\", \"ga\", \"ga\", \"ga\", \"ga\", \"ga\", \"gaddar\", \"gaddar\", \"gay\", \"gay\", \"gaya\", \"gaya\", \"gaya\", \"geonews_english\", \"ghulam\", \"ghulam\", \"giris\", \"goosebumps\", \"government\", \"government\", \"government\", \"government\", \"government\", \"guven\", \"gy\", \"gy\", \"gy\", \"gy\", \"ha\", \"ha\", \"ha\", \"ha\", \"ha\", \"hain\", \"hain\", \"hain\", \"hain\", \"hain\", \"hamidmirpak\", \"hamidmirpak\", \"hamidmirpak\", \"hamidmirpak\", \"haq\", \"haq\", \"harming\", \"haroon_natamam\", \"hate\", \"hate\", \"haydi\", \"haydi\", \"heading\", \"hi\", \"hi\", \"hi\", \"hi\", \"hi\", \"hien\", \"hien\", \"highest\", \"hn\", \"hn\", \"hn\", \"hn\", \"hn\", \"ho\", \"ho\", \"ho\", \"ho\", \"ho\", \"hon\", \"honest\", \"honest\", \"honest\", \"hours\", \"house\", \"hy\", \"hy\", \"hy\", \"hy\", \"hy\", \"ik\", \"ik\", \"ik\", \"ik\", \"ik\", \"imported\", \"imported\", \"imported\", \"imported\", \"imported\", \"improve\", \"imranriazkhan\", \"imranriazkhan\", \"imranriazkhan\", \"imranriazkhan\", \"imranriazkhan\", \"income\", \"inshaallah\", \"inshaallah\", \"iran\", \"iran\", \"iran\", \"ja\", \"ja\", \"ja\", \"jese\", \"jese\", \"jese\", \"judiciary\", \"judiciary\", \"judiciary\", \"judiciary\", \"ka\", \"ka\", \"ka\", \"ka\", \"ka\", \"kab\", \"kar\", \"kar\", \"kar\", \"kar\", \"kar\", \"kay\", \"kay\", \"kay\", \"kay\", \"kay\", \"ke\", \"ke\", \"ke\", \"ke\", \"ke\", \"ker\", \"khareedna\", \"know\", \"know\", \"know\", \"know\", \"know\", \"knows\", \"kon\", \"ky\", \"ky\", \"ky\", \"ky\", \"kyon\", \"lahore\", \"lahore\", \"lahore\", \"lahore\", \"language\", \"lannnnnat\", \"laundering\", \"leader\", \"leader\", \"leader\", \"leader\", \"leader\", \"left\", \"left\", \"left\", \"legitimacy\", \"liay\", \"liberty\", \"like\", \"like\", \"like\", \"like\", \"like\", \"london\", \"lord\", \"lot\", \"love\", \"love\", \"love\", \"love\", \"love\", \"low\", \"madia\", \"main\", \"main\", \"main\", \"main\", \"main\", \"mandate\", \"maybe\", \"media\", \"media\", \"media\", \"media\", \"media\", \"mehrtarar\", \"mei\", \"mein\", \"mein\", \"mein\", \"mein\", \"mi\", \"might\", \"minister\", \"minister\", \"minister\", \"minister\", \"mmariaaali\", \"mn\", \"mob\", \"moment\", \"money\", \"money\", \"money\", \"months\", \"movement\", \"movement\", \"movement\", \"movement\", \"movement\", \"muftimenk\", \"muhajjir\", \"multan\", \"murdabad\", \"murdered\", \"murderous\", \"na\", \"na\", \"na\", \"na\", \"na\", \"nah\", \"nahi\", \"nahi\", \"nahi\", \"nahi\", \"nahi\", \"nai\", \"nai\", \"nai\", \"nai\", \"nai\", \"nail\", \"naseeb\", \"nation\", \"nation\", \"nation\", \"nation\", \"nation\", \"nations\", \"nations\", \"naya\", \"naya\", \"naya\", \"nbut\", \"nd\", \"nd\", \"ne\", \"ne\", \"ne\", \"ne\", \"ne\", \"new\", \"new\", \"new\", \"new\", \"ni\", \"ni\", \"ni\", \"ni\", \"ni\", \"nikley\", \"nits\", \"npakistan\", \"npakistan\", \"npakistan\", \"npakistan\", \"npakistan\", \"npm\", \"nthank\", \"nthank\", \"nthis\", \"ntoday\", \"nyour\", \"officialdgispr\", \"officialdgispr\", \"officialdgispr\", \"officialdgispr\", \"officialdgispr\", \"officially\", \"old\", \"old\", \"old\", \"old\", \"old\", \"one\", \"one\", \"one\", \"one\", \"one\", \"ones\", \"ozgurluk\", \"pak\", \"pak\", \"pak\", \"pak\", \"pak\", \"pakistani\", \"pakistani\", \"pakistani\", \"pakistani\", \"pakistani\", \"pakistanis\", \"pakistanis\", \"pakistanis\", \"parliament\", \"parliament\", \"parliament\", \"parliament\", \"party\", \"party\", \"party\", \"party\", \"party\", \"pending\", \"people\", \"people\", \"people\", \"people\", \"people\", \"phir\", \"phir\", \"phir\", \"phir\", \"phir\", \"pic\", \"pm\", \"pm\", \"pm\", \"pm\", \"pm\", \"power\", \"power\", \"power\", \"power\", \"power\", \"prayers\", \"prayers\", \"prime\", \"prime\", \"prime\", \"prime\", \"products\", \"protests\", \"protests\", \"protests\", \"protests\", \"protests\", \"pti\", \"pti\", \"pti\", \"pti\", \"ptiofficial\", \"ptiofficial\", \"ptiofficial\", \"ptiofficial\", \"ptiofficial\", \"purana\", \"purana\", \"purana\", \"purana\", \"purana\", \"question\", \"question\", \"question\", \"rahy\", \"reaction\", \"remittances\", \"replaced\", \"republic\", \"respect\", \"right\", \"right\", \"right\", \"right\", \"risen\", \"robbers\", \"saath\", \"sab\", \"sab\", \"sab\", \"sab\", \"sab\", \"sah\\u0131s\", \"sath\", \"sath\", \"sath\", \"sath\", \"se\", \"se\", \"se\", \"se\", \"se\", \"selfless\", \"shaitaan\", \"shareef\", \"shareef\", \"sharif\", \"sharif\", \"sharif\", \"sharif\", \"shehbaz\", \"shukriya\", \"siasatpk\", \"side\", \"since\", \"since\", \"sir\", \"sir\", \"sir\", \"sir\", \"sir\", \"stand\", \"stand\", \"stand\", \"stand\", \"stand\", \"standing\", \"standing\", \"standing\", \"suna\", \"supporting\", \"supporting\", \"supporting\", \"supreme\", \"supreme\", \"supreme\", \"supreme\", \"terrorism\", \"terrorist\", \"terrorists\", \"teslim\", \"tha\", \"tha\", \"tha\", \"tha\", \"tha\", \"thanks\", \"thing\", \"thing\", \"thy\", \"time\", \"time\", \"time\", \"time\", \"time\", \"today\", \"today\", \"today\", \"today\", \"tonight\", \"tou\", \"tou\", \"tou\", \"tou\", \"traditional\", \"turkey\", \"ukaat\", \"umrah\", \"unfollow\", \"university\", \"university\", \"unmatchable\", \"unprecedented\", \"us\", \"us\", \"us\", \"us\", \"us\", \"view\", \"wa\", \"want\", \"want\", \"want\", \"want\", \"want\", \"wants\", \"wasting\", \"wasting\", \"watching\", \"watching\", \"watching\", \"watching\", \"welcome\", \"welcome\", \"welcome\", \"welcome\", \"welcome\", \"western\", \"western\", \"wo\", \"wo\", \"wo\", \"wo\", \"wo\", \"world\", \"world\", \"world\", \"world\", \"world\", \"xa\", \"xa\", \"xa\", \"ya\", \"ya\", \"ya\", \"ya\", \"ya\", \"yapmaya\", \"ye\", \"ye\", \"ye\", \"ye\", \"ye\", \"yemen\", \"yesterday\", \"yollardan\", \"zacgoldsmith\", \"zacgoldsmith\", \"zafer\", \"zinda\", \"zinda\", \"zinda\", \"zinda\", \"zindabad\", \"zindabad\", \"zindabad\", \"zindabad\", \"zindabad\", \"\\u0131n\", \"\\u0131n\", \"\\u0131n\", \"\\u0627\\u062d\\u062a\\u062c\\u0627\\u062c\", \"\\u062a\\u0648\", \"\\u062a\\u0648\", \"\\u062a\\u0648\", \"\\u062a\\u0648\", \"\\u062d\\u06a9\\u0648\\u0645\\u062a\", \"\\u062e\\u0627\\u0646\", \"\\u062e\\u0627\\u0646\", \"\\u062e\\u0627\\u0646\", \"\\u062f\\u06cc\\u06ba\", \"\\u0631\\u0648\\u06a9\", \"\\u0633\\u06d2\", \"\\u0633\\u06d2\", \"\\u0635\\u0627\\u062d\\u0628\", \"\\u0645\\u06cc\\u06ba\", \"\\u0645\\u06cc\\u06ba\", \"\\u0645\\u06cc\\u06ba\", \"\\u0645\\u06cc\\u06ba\", \"\\u0646\\u06a9\\u0644\\u0627\", \"\\u0648\\u06c1\\u06cc\", \"\\u067e\\u0627\\u06a9\\u0633\\u062a\\u0627\\u0646\", \"\\u067e\\u0627\\u06a9\\u0633\\u062a\\u0627\\u0646\", \"\\u067e\\u0627\\u06a9\\u0633\\u062a\\u0627\\u0646\", \"\\u067e\\u0627\\u06a9\\u0633\\u062a\\u0627\\u0646\", \"\\u0686\\u06cc\\u0646\\u0644\\u0632\", \"\\u06a9\\u0648\", \"\\u06a9\\u0648\", \"\\u06a9\\u0648\", \"\\u06a9\\u0648\\u0631\\u06cc\\u062c\", \"\\u06a9\\u06d2\", \"\\u06a9\\u06d2\", \"\\u06a9\\u06d2\", \"\\u06a9\\u06d2\", \"\\u06a9\\u06d2\", \"\\u06af\\u06d2\", \"\\u06af\\u06d2\", \"\\u06af\\u06d2\", \"\\u0915\\u092f\"]}, \"R\": 30, \"lambda.step\": 0.01, \"plot.opts\": {\"xlab\": \"PC1\", \"ylab\": \"PC2\"}, \"topic.order\": [5, 3, 1, 2, 4]};\n",
       "\n",
       "function LDAvis_load_lib(url, callback){\n",
       "  var s = document.createElement('script');\n",
       "  s.src = url;\n",
       "  s.async = true;\n",
       "  s.onreadystatechange = s.onload = callback;\n",
       "  s.onerror = function(){console.warn(\"failed to load library \" + url);};\n",
       "  document.getElementsByTagName(\"head\")[0].appendChild(s);\n",
       "}\n",
       "\n",
       "if(typeof(LDAvis) !== \"undefined\"){\n",
       "   // already loaded: just create the visualization\n",
       "   !function(LDAvis){\n",
       "       new LDAvis(\"#\" + \"ldavis_el1594818197257317608403185749\", ldavis_el1594818197257317608403185749_data);\n",
       "   }(LDAvis);\n",
       "}else if(typeof define === \"function\" && define.amd){\n",
       "   // require.js is available: use it to load d3/LDAvis\n",
       "   require.config({paths: {d3: \"https://d3js.org/d3.v5\"}});\n",
       "   require([\"d3\"], function(d3){\n",
       "      window.d3 = d3;\n",
       "      LDAvis_load_lib(\"https://cdn.jsdelivr.net/gh/bmabey/pyLDAvis@3.3.1/pyLDAvis/js/ldavis.v3.0.0.js\", function(){\n",
       "        new LDAvis(\"#\" + \"ldavis_el1594818197257317608403185749\", ldavis_el1594818197257317608403185749_data);\n",
       "      });\n",
       "    });\n",
       "}else{\n",
       "    // require.js not available: dynamically load d3 & LDAvis\n",
       "    LDAvis_load_lib(\"https://d3js.org/d3.v5.js\", function(){\n",
       "         LDAvis_load_lib(\"https://cdn.jsdelivr.net/gh/bmabey/pyLDAvis@3.3.1/pyLDAvis/js/ldavis.v3.0.0.js\", function(){\n",
       "                 new LDAvis(\"#\" + \"ldavis_el1594818197257317608403185749\", ldavis_el1594818197257317608403185749_data);\n",
       "            })\n",
       "         });\n",
       "}\n",
       "</script>"
      ],
      "text/plain": [
       "PreparedData(topic_coordinates=              x         y  topics  cluster       Freq\n",
       "topic                                                \n",
       "4      0.069739 -0.071330       1        1  24.443569\n",
       "2     -0.013233  0.084822       2        1  20.392375\n",
       "0     -0.049899 -0.083101       3        1  20.074963\n",
       "1     -0.089316  0.025251       4        1  17.756098\n",
       "3      0.082709  0.044358       5        1  17.332996, topic_info=             Term       Freq      Total Category  logprob  loglift\n",
       "468            xa  11.000000  11.000000  Default  30.0000  30.0000\n",
       "140         power  16.000000  16.000000  Default  29.0000  29.0000\n",
       "339   hamidmirpak  16.000000  16.000000  Default  28.0000  28.0000\n",
       "328      zindabad  40.000000  40.000000  Default  27.0000  27.0000\n",
       "13         nation  34.000000  34.000000  Default  26.0000  26.0000\n",
       "...           ...        ...        ...      ...      ...      ...\n",
       "171            se   5.696450  30.499003   Topic5  -5.9879   0.0747\n",
       "69           love   4.918689  20.880866   Topic5  -6.1347   0.3068\n",
       "521            ha   5.129572  23.997389   Topic5  -6.0927   0.2096\n",
       "191           pti   4.848415  27.738148   Topic5  -6.1491   0.0084\n",
       "1187       change   4.423761  18.292976   Topic5  -6.2407   0.3330\n",
       "\n",
       "[405 rows x 6 columns], token_table=      Topic      Freq Term\n",
       "term                      \n",
       "774       1  0.096711   aa\n",
       "774       2  0.483557   aa\n",
       "774       4  0.386845   aa\n",
       "1055      2  0.205084  aaj\n",
       "1055      3  0.615251  aaj\n",
       "...     ...       ...  ...\n",
       "297       5  0.147663   کے\n",
       "2224      1  0.695307   گے\n",
       "2224      4  0.173827   گے\n",
       "2224      5  0.173827   گے\n",
       "1321      2  0.486598   कय\n",
       "\n",
       "[783 rows x 3 columns], R=30, lambda_step=0.01, plot_opts={'xlab': 'PC1', 'ylab': 'PC2'}, topic_order=[5, 3, 1, 2, 4])"
      ]
     },
     "execution_count": 58,
     "metadata": {},
     "output_type": "execute_result"
    }
   ],
   "source": [
    "pyLDAvis.enable_notebook()\n",
    "vis = pyLDAvis.gensim_models.prepare(lda_model, corpus, id2word, mds=\"mmds\", R=30)\n",
    "vis"
   ]
  },
  {
   "cell_type": "code",
   "execution_count": null,
   "id": "cdba660b",
   "metadata": {},
   "outputs": [],
   "source": []
  }
 ],
 "metadata": {
  "kernelspec": {
   "display_name": "Python 3",
   "language": "python",
   "name": "python3"
  },
  "language_info": {
   "codemirror_mode": {
    "name": "ipython",
    "version": 3
   },
   "file_extension": ".py",
   "mimetype": "text/x-python",
   "name": "python",
   "nbconvert_exporter": "python",
   "pygments_lexer": "ipython3",
   "version": "3.8.8"
  },
  "latex_envs": {
   "LaTeX_envs_menu_present": true,
   "autoclose": false,
   "autocomplete": true,
   "bibliofile": "biblio.bib",
   "cite_by": "apalike",
   "current_citInitial": 1,
   "eqLabelWithNumbers": true,
   "eqNumInitial": 1,
   "hotkeys": {
    "equation": "Ctrl-E",
    "itemize": "Ctrl-I"
   },
   "labels_anchors": false,
   "latex_user_defs": false,
   "report_style_numbering": false,
   "user_envs_cfg": false
  },
  "toc": {
   "base_numbering": 1,
   "nav_menu": {},
   "number_sections": true,
   "sideBar": true,
   "skip_h1_title": false,
   "title_cell": "Table of Contents",
   "title_sidebar": "Contents",
   "toc_cell": false,
   "toc_position": {},
   "toc_section_display": true,
   "toc_window_display": false
  }
 },
 "nbformat": 4,
 "nbformat_minor": 5
}
