{
 "cells": [
  {
   "cell_type": "markdown",
   "id": "3b02810e",
   "metadata": {},
   "source": [
    "Load libraries and intialize Reddit information for scraping"
   ]
  },
  {
   "cell_type": "code",
   "execution_count": 9,
   "id": "b4812317",
   "metadata": {},
   "outputs": [],
   "source": [
    "import praw\n",
    "from praw.models import MoreComments\n",
    "import pandas as pd\n",
    "import csv\n",
    "import numpy as np\n",
    "import matplotlib.pyplot as plt\n",
    "import seaborn as sns\n",
    "\n",
    "# Read-only instance\n",
    "reddit_read_only = praw.Reddit(client_id=\"NLmlqyOFw4rPxtoQOairnA\",         # your client id\n",
    "                               client_secret=\"nqhj6EKit-r65-nYU8x56pf6fXjc4A\",      # your client secret\n",
    "                               user_agent=\"Scraping tool created by u/Heavy_Clerk_1809\" )      # your user agent"
   ]
  },
  {
   "cell_type": "code",
   "execution_count": 10,
   "id": "6a57dd99",
   "metadata": {},
   "outputs": [
    {
     "data": {
      "text/plain": [
       "<praw.reddit.Reddit at 0x1aaa9fc0b50>"
      ]
     },
     "execution_count": 10,
     "metadata": {},
     "output_type": "execute_result"
    }
   ],
   "source": [
    "reddit_read_only"
   ]
  },
  {
   "cell_type": "code",
   "execution_count": 11,
   "id": "bd919772",
   "metadata": {},
   "outputs": [
    {
     "name": "stdout",
     "output_type": "stream",
     "text": [
      "Free-Talk Friday - 18/03/2022\n",
      "Free-Talk Friday - 25/03/2022\n",
      "Ramadan is upon us.\n",
      "just a Nice Uplifting image I thought I'd share\n",
      "Choose your friends wisely\n",
      "remember to recite your surrah and pray 5 times a day\n",
      "Wearing a headscarf for the first time in public\n",
      "Beautify your experience in the grave with Surah Mulk + good deeds DAILY!\n",
      "Can A Trans Person Convert To Islam?\n",
      "This Ramadan, don’t leave the cooking of iftaar only to the women of the house!! :D\n"
     ]
    }
   ],
   "source": [
    "Islam_hot_posts = reddit_read_only.subreddit('Islam').hot(limit=10)\n",
    "for post in Islam_hot_posts:\n",
    "    print(post.title)"
   ]
  },
  {
   "cell_type": "markdown",
   "id": "22008a36",
   "metadata": {},
   "source": [
    "Loading the top five submissions for each subreddit over the last year."
   ]
  },
  {
   "cell_type": "code",
   "execution_count": 12,
   "id": "c97b0173",
   "metadata": {},
   "outputs": [],
   "source": [
    "Islam_submission_01 = reddit_read_only.submission(url=\"https://www.reddit.com/r/islam/comments/n7llqj/israeli_forces_attacked_peaceful_worshippers/\")"
   ]
  },
  {
   "cell_type": "code",
   "execution_count": 13,
   "id": "f2235b6a-180c-4488-a653-c84fd91340d5",
   "metadata": {},
   "outputs": [],
   "source": [
    "Islam_submission_02 = reddit_read_only.submission(url=\"https://www.reddit.com/r/islam/comments/nam1ja/orthodox_judaism_rejects_zionism/\")"
   ]
  },
  {
   "cell_type": "code",
   "execution_count": 14,
   "id": "864e007e-334a-4d08-b459-31d68f88bfcd",
   "metadata": {},
   "outputs": [],
   "source": [
    "Islam_submission_03 = reddit_read_only.submission(url=\"https://www.reddit.com/r/islam/comments/nd440h/its_not_fair_a_10yearold_palestinian_girl_breaks/\")"
   ]
  },
  {
   "cell_type": "code",
   "execution_count": 15,
   "id": "9edf2f43-2472-475d-a5d8-d46db2c4bb22",
   "metadata": {},
   "outputs": [],
   "source": [
    "Islam_submission_04 = reddit_read_only.submission(url=\"https://www.reddit.com/r/islam/comments/nb8vx1/bothers_and_sisters_please_upvote_this_and_share/\")"
   ]
  },
  {
   "cell_type": "code",
   "execution_count": 16,
   "id": "bdaa1dca-2573-48bc-8992-c852c03e37aa",
   "metadata": {},
   "outputs": [],
   "source": [
    "Islam_submission_05 = reddit_read_only.submission(url=\"https://www.reddit.com/r/islam/comments/mvvu22/islamophilia/\")"
   ]
  },
  {
   "cell_type": "code",
   "execution_count": 17,
   "id": "790fba0d-c6e2-407d-9d05-79fee6cbc00b",
   "metadata": {},
   "outputs": [],
   "source": [
    "Christianity_submission_01 = reddit_read_only.submission(url=\"https://www.reddit.com/r/Christianity/comments/n9xkak/little_boy_at_walmart_praying_in_front_of_a/\")"
   ]
  },
  {
   "cell_type": "code",
   "execution_count": 18,
   "id": "319999d9-270d-4ea8-b63a-6ab07856b357",
   "metadata": {},
   "outputs": [],
   "source": [
    "Christianity_submission_02 = reddit_read_only.submission(url=\"https://www.reddit.com/r/Christianity/comments/t0s5jh/christians_singing_praise_to_jesus_christ_while/\")"
   ]
  },
  {
   "cell_type": "code",
   "execution_count": 19,
   "id": "a40eae39-670f-4985-814d-44b3f016226f",
   "metadata": {},
   "outputs": [],
   "source": [
    "Christianity_submission_03 = reddit_read_only.submission(url=\"https://www.reddit.com/r/Christianity/comments/mkha9r/he_is_risen_he_is_risen_indeed/\")"
   ]
  },
  {
   "cell_type": "code",
   "execution_count": 20,
   "id": "7aa08af5-828c-45e3-af1a-bd2a6896cdea",
   "metadata": {},
   "outputs": [],
   "source": [
    "Christianity_submission_04 = reddit_read_only.submission(url=\"https://www.reddit.com/r/Christianity/comments/p70kfm/yes_we_will_ban_you_if_you_try_to_discourage/\")"
   ]
  },
  {
   "cell_type": "code",
   "execution_count": 21,
   "id": "3f403275-57be-4bf7-9ab5-c0be275047fe",
   "metadata": {},
   "outputs": [],
   "source": [
    "Christianity_submission_05 = reddit_read_only.submission(url=\"https://www.reddit.com/r/Christianity/comments/n7xc7n/found_this_130_year_old_bible_at_a_yard_sale_today/\")"
   ]
  },
  {
   "cell_type": "code",
   "execution_count": 22,
   "id": "cdfff37c-c1d8-41dd-942f-7d3886c4e832",
   "metadata": {},
   "outputs": [],
   "source": [
    "Judaism_submission_01 = reddit_read_only.submission(url=\"https://www.reddit.com/r/Judaism/comments/nabgxo/im_doing_my_part/\")"
   ]
  },
  {
   "cell_type": "code",
   "execution_count": 23,
   "id": "c35c68e3-d7c7-449f-88d7-3b8dea717461",
   "metadata": {},
   "outputs": [],
   "source": [
    "Judaism_submission_02 = reddit_read_only.submission(url=\"https://www.reddit.com/r/Judaism/comments/ml7z6r/islamic_clergy_came_to_the_synagogue_and/\")"
   ]
  },
  {
   "cell_type": "code",
   "execution_count": 24,
   "id": "2c6af54d-cae9-4832-88a2-31f6d00f3b11",
   "metadata": {},
   "outputs": [],
   "source": [
    "Judaism_submission_03 = reddit_read_only.submission(url=\"https://www.reddit.com/r/Judaism/comments/t01j87/i_wish_more_orthodox_rabbis_were_this/\")"
   ]
  },
  {
   "cell_type": "code",
   "execution_count": 25,
   "id": "1fe062b2-6a82-40db-973d-086fe276e2fe",
   "metadata": {},
   "outputs": [],
   "source": [
    "Judaism_submission_04 = reddit_read_only.submission(url=\"https://www.reddit.com/r/Judaism/comments/neiwxj/mr_bunbun_is_officially_a_man/\")"
   ]
  },
  {
   "cell_type": "code",
   "execution_count": 26,
   "id": "cd345b77-bc77-41b9-9111-fe3aa7363a65",
   "metadata": {},
   "outputs": [],
   "source": [
    "Judaism_submission_05 = reddit_read_only.submission(url=\"https://www.reddit.com/r/Judaism/comments/nh9r9j/jerusalem_has_a_new_monument_to_honour_the_850000/\")"
   ]
  },
  {
   "cell_type": "code",
   "execution_count": 27,
   "id": "6e27b0c8-edd3-490d-9d25-6d687a9885ce",
   "metadata": {},
   "outputs": [],
   "source": [
    "Hinduism_submission_01 = reddit_read_only.submission(url=\"https://www.reddit.com/r/hinduism/comments/ot2gpv/hi_everyone_im_an_indie_game_developer_currently/\")"
   ]
  },
  {
   "cell_type": "code",
   "execution_count": 28,
   "id": "88cc11d5-a87b-4334-9cb6-f45883cec398",
   "metadata": {},
   "outputs": [],
   "source": [
    "Hinduism_submission_02 = reddit_read_only.submission(url=\"https://www.reddit.com/r/hinduism/comments/p5cfj3/respect/\")"
   ]
  },
  {
   "cell_type": "code",
   "execution_count": 29,
   "id": "d5d2ec11-ff28-4aec-a4d4-09d8cd67935c",
   "metadata": {},
   "outputs": [],
   "source": [
    "Hinduism_submission_03 = reddit_read_only.submission(url=\"https://www.reddit.com/r/hinduism/comments/q72jla/a_billboard_in_the_us/\")"
   ]
  },
  {
   "cell_type": "code",
   "execution_count": 30,
   "id": "70360b0f-f4f4-4c3a-8464-27f99c8481fa",
   "metadata": {},
   "outputs": [],
   "source": [
    "Hinduism_submission_04 = reddit_read_only.submission(url=\"https://www.reddit.com/r/hinduism/comments/no3jc8/celebrating_100_000_subscribers_at_rhinduism/\")"
   ]
  },
  {
   "cell_type": "code",
   "execution_count": 31,
   "id": "a5c8bd5a-a1eb-4bf5-a81d-49a3025a1706",
   "metadata": {},
   "outputs": [],
   "source": [
    "Hinduism_submission_05 = reddit_read_only.submission(url=\"https://www.reddit.com/r/hinduism/comments/mor1v1/lord_ganesha_painting_on_canvas/\")"
   ]
  },
  {
   "cell_type": "code",
   "execution_count": 32,
   "id": "86ca8e29-d018-4aef-ac17-5df64403b6b5",
   "metadata": {},
   "outputs": [],
   "source": [
    "Atheism_submission_01 = reddit_read_only.submission(url=\"https://www.reddit.com/r/atheism/comments/nv3nq5/burger_king_takes_shot_at_chickfila_will_donate/\")"
   ]
  },
  {
   "cell_type": "code",
   "execution_count": 33,
   "id": "44d0bd91-2230-4909-9b1d-21de1c79bc72",
   "metadata": {},
   "outputs": [],
   "source": [
    "Atheism_submission_02 = reddit_read_only.submission(url=\"https://www.reddit.com/r/atheism/comments/pgnf94/under_the_new_texas_law_a_man_who_rapes_a_woman/\")"
   ]
  },
  {
   "cell_type": "code",
   "execution_count": 34,
   "id": "0aedd614-479c-4381-a18d-0af2514a7dc6",
   "metadata": {},
   "outputs": [],
   "source": [
    "Atheism_submission_03 = reddit_read_only.submission(url=\"https://www.reddit.com/r/atheism/comments/rd89ny/former_priest_arrested_for_filming_13yearold_boy/\")"
   ]
  },
  {
   "cell_type": "code",
   "execution_count": 35,
   "id": "87f37f1f-376e-4bad-bba5-07ac703d04ad",
   "metadata": {},
   "outputs": [],
   "source": [
    "Atheism_submission_04 = reddit_read_only.submission(url=\"https://www.reddit.com/r/atheism/comments/su1erk/the_satanic_temple_had_their_inaugural_satancon/\")"
   ]
  },
  {
   "cell_type": "code",
   "execution_count": 36,
   "id": "7c2f806c-8717-43ec-9a63-0416b5f00ad8",
   "metadata": {},
   "outputs": [],
   "source": [
    "Atheism_submission_05 = reddit_read_only.submission(url=\"https://www.reddit.com/r/atheism/comments/qhtrpz/a_gay_music_teacher_got_married_the_brooklyn/\")"
   ]
  },
  {
   "cell_type": "markdown",
   "id": "67c16016",
   "metadata": {},
   "source": [
    "Loading the top level comments and cleaning the data by removing deleted values."
   ]
  },
  {
   "cell_type": "code",
   "execution_count": 37,
   "id": "ffdb714a",
   "metadata": {},
   "outputs": [
    {
     "name": "stdout",
     "output_type": "stream",
     "text": [
      "                                                  body\n",
      "0    Anyone encouraging brigading of other subs and...\n",
      "1    Pray for the ummah tonight, it's the least we ...\n",
      "2                                      Literal psychos\n",
      "4         I’m Jewish and this is absolutely disgusting\n",
      "5    Remember, as long as you label yourselves as a...\n",
      "..                                                 ...\n",
      "128  It seems all kinds of wrong to attack someone ...\n",
      "129  I came here to stop getting mad and stop swear...\n",
      "130  The people here giving this the wholesome awar...\n",
      "132  I hope this is not to sensitive, but this situ...\n",
      "133  Arabs attacked Israel.\\nAnd Israel fought mult...\n",
      "\n",
      "[119 rows x 1 columns]\n"
     ]
    }
   ],
   "source": [
    "Islam = []\n",
    "#Islam_submissions = [Islam_submission_01, Islam_submission_02, Islam_submission_03, Islam_submission_04, Islam_submission_05]\n",
    "#for submission in Islam_submissions:\n",
    "for top_level_comment in Islam_submission_01.comments:\n",
    "    if isinstance(top_level_comment, MoreComments):\n",
    "        continue\n",
    "    Islam.append(top_level_comment.body)\n",
    "Islam = pd.DataFrame(Islam,columns=[\"body\"])\n",
    "indexNames = Islam[(Islam.body == '[removed]') | (Islam.body == '[deleted]')].index\n",
    "Islam.drop(indexNames, inplace=True)\n",
    "print(Islam)"
   ]
  },
  {
   "cell_type": "code",
   "execution_count": 38,
   "id": "ff3c0694-2249-4ebf-b256-212ccc630275",
   "metadata": {},
   "outputs": [
    {
     "name": "stdout",
     "output_type": "stream",
     "text": [
      "                                                 body\n",
      "0   Not to be a downer, but it's really bothering ...\n",
      "1                                  This is inspiring.\n",
      "2   My kneejerk reaction is “his parents are awful...\n",
      "3   Love to see it. However, at the same time I do...\n",
      "4                                  God bless you kid.\n",
      "..                                                ...\n",
      "75  If his ruling elite fantasy created god existe...\n",
      "76  It is cute but most likely staged.  Someone  u...\n",
      "77  Unfortunately, the little boy is just wasting ...\n",
      "78  Just because someone is praying does not mean ...\n",
      "79                                           poor kid\n",
      "\n",
      "[78 rows x 1 columns]\n"
     ]
    }
   ],
   "source": [
    "Christianity = []\n",
    "#Christianity_submissions = [Christianity_submission_01, Christianity_submission_02, Christianity_submission_03, Christianity_submission_04, Christianity_submission_05]\n",
    "#for submission in Christianity_submissions:\n",
    "#    submission.comments.replace_more(limit=0)\n",
    "#    for top_level_comment in submission.comments:\n",
    "#        print(top_level_comment.body)\n",
    "for top_level_comment in Christianity_submission_01.comments:\n",
    "    if isinstance(top_level_comment, MoreComments):\n",
    "        continue\n",
    "    Christianity.append(top_level_comment.body)\n",
    "Christianity = pd.DataFrame(Christianity,columns=[\"body\"])\n",
    "indexNames = Christianity[(Christianity.body == '[removed]') | (Christianity.body == '[deleted]')].index\n",
    "Christianity.drop(indexNames, inplace=True)\n",
    "print(Christianity)"
   ]
  },
  {
   "cell_type": "code",
   "execution_count": 39,
   "id": "93714a9e-588a-4903-9824-5e5d1f5753be",
   "metadata": {},
   "outputs": [
    {
     "name": "stdout",
     "output_type": "stream",
     "text": [
      "                                                 body\n",
      "0                        Locking until further notice\n",
      "1   I'd say a downvote on an antisemitic post on R...\n",
      "2   I had to unfollow people on Instagram today. I...\n",
      "3   Anyone else notice the increased number of peo...\n",
      "4   Meanwhile antisemitism on YouTube is just a gi...\n",
      "5   Been me all day, had to unfollow several subs too\n",
      "6   To American Jews, without your support from th...\n",
      "7          *gives you upvote*\\n\\n\\n....earn....it....\n",
      "8   Thanks, this made me feel better. It's been ro...\n",
      "9   Israeli here, who was released not too long ag...\n",
      "10                                               Same\n",
      "11  Oh man. I don't think I've ever downvoted more...\n",
      "12  Then you scroll to find the most downvoted com...\n",
      "13  I... thought I was doing my part on IG and spe...\n",
      "14  Coming as an atheist, I know there’s not a 100...\n",
      "15  I have a friend who single handedly took out a...\n",
      "16  I have not identified with a meme this hard in...\n",
      "17  Don’t forget the beautiful combo of report + b...\n",
      "18                    SERVICE GUARANTEES CITIZENSHIP!\n",
      "19                              Dude. Take my upvote.\n",
      "20  This day has been so so awful and honestly thi...\n",
      "21            Smile and report boys, smile and report\n",
      "22  There is some asshole blaming some kid posting...\n",
      "23     Reddit is a Leftwing bastion of anti-semitism.\n",
      "24  How do you guys deal with all of these disgust...\n",
      "25  Lol, try commenting on something RIP to your k...\n",
      "26  If you want to help other Jews Do something th...\n",
      "27  Also reporting posts for not being relevant to...\n",
      "28  ”Kaplan...so are you like pro what is going on...\n",
      "29  I'm an atheist, I can understand criticizing g...\n",
      "32  I guess you mean people mad at Israel for atta...\n",
      "33        Antizionism isn't the same as Antisemitism.\n",
      "36  Criticising the way Israel treats the Palestin...\n",
      "37  It was antisemitism it's antiziomism.  Learn t...\n",
      "38  I don't know what this means and I'm 33. Here,...\n"
     ]
    }
   ],
   "source": [
    "#Judaism_submissions = [Judaism_submission_01, Judaism_submission_02, Judaism_submission_03, Judaism_submission_04, Judaism_submission_05]\n",
    "#for submission in Judaism_submissions:\n",
    "#    submission.comments.replace_more(limit=0)\n",
    "#    for top_level_comment in submission.comments:\n",
    "#        print(top_level_comment.body)\n",
    "Judaism = []\n",
    "for top_level_comment in Judaism_submission_01.comments:\n",
    "    if isinstance(top_level_comment, MoreComments):\n",
    "        continue\n",
    "    Judaism.append(top_level_comment.body)\n",
    "Judaism = pd.DataFrame(Judaism,columns=[\"body\"])\n",
    "indexNames = Judaism[(Judaism.body == '[removed]') | (Judaism.body == '[deleted]')].index\n",
    "Judaism.drop(indexNames, inplace=True)\n",
    "print(Judaism)"
   ]
  },
  {
   "cell_type": "code",
   "execution_count": 40,
   "id": "7e1f74e6-afc6-44c2-82dc-723fa144e3db",
   "metadata": {},
   "outputs": [
    {
     "name": "stdout",
     "output_type": "stream",
     "text": [
      "                                                 body\n",
      "0   Namaste, thank you for the submission. Please ...\n",
      "1   AMAZING!!! I'M SO HAPPY GAMES ACCORDING TO HIN...\n",
      "2                                       Looks amazing\n",
      "3   Looks good. I would suggest you to add more we...\n",
      "4                               more power to you bro\n",
      "..                                                ...\n",
      "82      Whoa! Looks great. Can’t wait to buy the game\n",
      "83                        Will this be for pc also?!!\n",
      "84                Superb ❤️ !!!!! Loving it already .\n",
      "85  Hey this looks so amazing!!!! I'll be waiting ...\n",
      "86                                        u/savevideo\n",
      "\n",
      "[86 rows x 1 columns]\n"
     ]
    }
   ],
   "source": [
    "#Hinduism_submissions = [Hinduism_submission_01, Hinduism_submission_02, Hinduism_submission_03, Hinduism_submission_04, Hinduism_submission_05]\n",
    "#for submission in Hinduism_submissions:\n",
    "#    submission.comments.replace_more(limit=0)\n",
    "#    for top_level_comment in submission.comments:\n",
    "#        print(top_level_comment.body)\n",
    "Hinduism = []\n",
    "for top_level_comment in Hinduism_submission_01.comments:\n",
    "    if isinstance(top_level_comment, MoreComments):\n",
    "        continue\n",
    "    Hinduism.append(top_level_comment.body)\n",
    "Hinduism = pd.DataFrame(Hinduism,columns=[\"body\"])\n",
    "indexNames = Hinduism[(Hinduism.body == '[removed]') | (Hinduism.body == '[deleted]')].index\n",
    "Hinduism.drop(indexNames, inplace=True)\n",
    "print(Hinduism)\n"
   ]
  },
  {
   "cell_type": "code",
   "execution_count": 41,
   "id": "af0b785c-f338-4fa5-b7da-e0c070aa4188",
   "metadata": {},
   "outputs": [
    {
     "name": "stdout",
     "output_type": "stream",
     "text": [
      "                                                 body\n",
      "0   Hello r/all, Welcome to r/atheism!\\n\\nPlease r...\n",
      "1    Nobody ever bragged that they once got busy i...\n",
      "2   The question isn't how good are your whoppers,...\n",
      "3   I haven't tried any of the chicken sandwich wa...\n",
      "4   i don't care much about BK, but damn if some p...\n",
      "..                                                ...\n",
      "85  Chick fil a isn't even that good I don't under...\n",
      "86             Chick-fil-A is glorified airplane food\n",
      "87  Company A starts drama with company B by prete...\n",
      "88  This isnt about helping LGBT, or about charity...\n",
      "90           Why not give to those living in poverty?\n",
      "\n",
      "[86 rows x 1 columns]\n"
     ]
    }
   ],
   "source": [
    "#Atheism_submissions = [Atheism_submission_01, Atheism_submission_02, Atheism_submission_03, Atheism_submission_04, Atheism_submission_05]\n",
    "#for submission in Atheism_submissions:\n",
    "#    submission.comments.replace_more(limit=0)\n",
    "#    for top_level_comment in submission.comments:\n",
    "#        print(top_level_comment.body)\n",
    "\n",
    "Atheism = []\n",
    "for top_level_comment in Atheism_submission_01.comments:\n",
    "    if isinstance(top_level_comment, MoreComments):\n",
    "        continue\n",
    "    Atheism.append(top_level_comment.body)\n",
    "Atheism = pd.DataFrame(Atheism,columns=[\"body\"])\n",
    "indexNames = Atheism[(Atheism.body == '[removed]') | (Atheism.body == '[deleted]')].index\n",
    "Atheism.drop(indexNames, inplace=True)\n",
    "print(Atheism)"
   ]
  },
  {
   "cell_type": "markdown",
   "id": "bc3e7d4b",
   "metadata": {},
   "source": [
    "Generate bar chart showing the amount of data being used per community"
   ]
  },
  {
   "cell_type": "code",
   "execution_count": 42,
   "id": "fba1473d",
   "metadata": {},
   "outputs": [
    {
     "data": {
      "image/png": "[encoded data removed]",
      "text/plain": [
       "<Figure size 720x360 with 1 Axes>"
      ]
     },
     "metadata": {
      "needs_background": "light"
     },
     "output_type": "display_data"
    }
   ],
   "source": [
    "import numpy as np\n",
    "import matplotlib.pyplot as plt\n",
    "\n",
    "# creating the dataset\n",
    "data = {'Islam':119, 'Christianity':78, 'Judaism':38, 'Hinduism':86,\n",
    "        'Atheism':86}\n",
    "courses = list(data.keys())\n",
    "values = list(data.values())\n",
    "  \n",
    "fig = plt.figure(figsize = (10, 5))\n",
    " \n",
    "# creating the bar plot\n",
    "plt.bar(courses, values, color ='maroon',\n",
    "        width = 0.5)\n",
    " \n",
    "plt.xlabel(\"Community\")\n",
    "plt.ylabel(\"Number of Comments\")\n",
    "plt.title(\"Comments Analyzed by Community\")\n",
    "plt.show()"
   ]
  },
  {
   "cell_type": "markdown",
   "id": "d2a231be",
   "metadata": {},
   "source": [
    "Checking to see how the data looks"
   ]
  },
  {
   "cell_type": "code",
   "execution_count": 43,
   "id": "302ee6a3-de8c-426a-9456-a567101b7748",
   "metadata": {},
   "outputs": [
    {
     "data": {
      "text/html": [
       "<div>\n",
       "<style scoped>\n",
       "    .dataframe tbody tr th:only-of-type {\n",
       "        vertical-align: middle;\n",
       "    }\n",
       "\n",
       "    .dataframe tbody tr th {\n",
       "        vertical-align: top;\n",
       "    }\n",
       "\n",
       "    .dataframe thead th {\n",
       "        text-align: right;\n",
       "    }\n",
       "</style>\n",
       "<table border=\"1\" class=\"dataframe\">\n",
       "  <thead>\n",
       "    <tr style=\"text-align: right;\">\n",
       "      <th></th>\n",
       "      <th>body</th>\n",
       "    </tr>\n",
       "  </thead>\n",
       "  <tbody>\n",
       "    <tr>\n",
       "      <th>0</th>\n",
       "      <td>Namaste, thank you for the submission. Please ...</td>\n",
       "    </tr>\n",
       "    <tr>\n",
       "      <th>1</th>\n",
       "      <td>AMAZING!!! I'M SO HAPPY GAMES ACCORDING TO HIN...</td>\n",
       "    </tr>\n",
       "    <tr>\n",
       "      <th>2</th>\n",
       "      <td>Looks amazing</td>\n",
       "    </tr>\n",
       "    <tr>\n",
       "      <th>3</th>\n",
       "      <td>Looks good. I would suggest you to add more we...</td>\n",
       "    </tr>\n",
       "    <tr>\n",
       "      <th>4</th>\n",
       "      <td>more power to you bro</td>\n",
       "    </tr>\n",
       "    <tr>\n",
       "      <th>...</th>\n",
       "      <td>...</td>\n",
       "    </tr>\n",
       "    <tr>\n",
       "      <th>82</th>\n",
       "      <td>Whoa! Looks great. Can’t wait to buy the game</td>\n",
       "    </tr>\n",
       "    <tr>\n",
       "      <th>83</th>\n",
       "      <td>Will this be for pc also?!!</td>\n",
       "    </tr>\n",
       "    <tr>\n",
       "      <th>84</th>\n",
       "      <td>Superb ❤️ !!!!! Loving it already .</td>\n",
       "    </tr>\n",
       "    <tr>\n",
       "      <th>85</th>\n",
       "      <td>Hey this looks so amazing!!!! I'll be waiting ...</td>\n",
       "    </tr>\n",
       "    <tr>\n",
       "      <th>86</th>\n",
       "      <td>u/savevideo</td>\n",
       "    </tr>\n",
       "  </tbody>\n",
       "</table>\n",
       "<p>86 rows × 1 columns</p>\n",
       "</div>"
      ],
      "text/plain": [
       "                                                 body\n",
       "0   Namaste, thank you for the submission. Please ...\n",
       "1   AMAZING!!! I'M SO HAPPY GAMES ACCORDING TO HIN...\n",
       "2                                       Looks amazing\n",
       "3   Looks good. I would suggest you to add more we...\n",
       "4                               more power to you bro\n",
       "..                                                ...\n",
       "82      Whoa! Looks great. Can’t wait to buy the game\n",
       "83                        Will this be for pc also?!!\n",
       "84                Superb ❤️ !!!!! Loving it already .\n",
       "85  Hey this looks so amazing!!!! I'll be waiting ...\n",
       "86                                        u/savevideo\n",
       "\n",
       "[86 rows x 1 columns]"
      ]
     },
     "execution_count": 43,
     "metadata": {},
     "output_type": "execute_result"
    }
   ],
   "source": [
    "Hinduism"
   ]
  },
  {
   "cell_type": "markdown",
   "id": "af5b3a5f",
   "metadata": {},
   "source": [
    "Counting the word frequencies"
   ]
  },
  {
   "cell_type": "code",
   "execution_count": 47,
   "id": "80eafeac-1994-4d95-b3f2-337740581dd7",
   "metadata": {},
   "outputs": [
    {
     "name": "stdout",
     "output_type": "stream",
     "text": [
      "          Word  Frequency\n",
      "0       people         26\n",
      "1       israel         23\n",
      "2         like         14\n",
      "3         dont         12\n",
      "4         even         11\n",
      "5        allah         10\n",
      "6          may          9\n",
      "7        years          9\n",
      "8       anyone          8\n",
      "9    palestine          8\n",
      "10         see          8\n",
      "11     israeli          8\n",
      "12       would          8\n",
      "13    peaceful          8\n",
      "14        cant          7\n",
      "15      muslim          7\n",
      "16        help          6\n",
      "17        need          6\n",
      "18        guys          6\n",
      "19       every          6\n",
      "20        hate          6\n",
      "21    religion          6\n",
      "22      police          6\n",
      "23        free          5\n",
      "24  terrorists          5\n"
     ]
    },
    {
     "name": "stderr",
     "output_type": "stream",
     "text": [
      "[nltk_data] Downloading package punkt to\n",
      "[nltk_data]     C:\\Users\\rab4h\\AppData\\Roaming\\nltk_data...\n",
      "[nltk_data]   Package punkt is already up-to-date!\n",
      "[nltk_data] Downloading package stopwords to\n",
      "[nltk_data]     C:\\Users\\rab4h\\AppData\\Roaming\\nltk_data...\n",
      "[nltk_data]   Package stopwords is already up-to-date!\n"
     ]
    }
   ],
   "source": [
    "import re\n",
    "import string\n",
    "import nltk\n",
    "\n",
    "import pandas as pd\n",
    "\n",
    "from collections import Counter\n",
    "from nltk.tokenize import word_tokenize\n",
    "from nltk.corpus import stopwords\n",
    "\n",
    "from wordcloud import WordCloud, STOPWORDS, ImageColorGenerator\n",
    "from PIL import Image\n",
    "\n",
    "nltk.download('punkt')\n",
    "nltk.download('stopwords')\n",
    "\n",
    "STOP_WORDS = stopwords.words()\n",
    "\n",
    "def cleaning(text):\n",
    "    \"\"\"\n",
    "    Convert to lowercase.\n",
    "    Rremove URL links, special characters and punctuation.\n",
    "    Tokenize and remove stop words.\n",
    "    \"\"\"\n",
    "    text = text.lower()\n",
    "    text = re.sub('https?://\\S+|www\\.\\S+', '', text)\n",
    "    text = re.sub('<.*?>+', '', text)\n",
    "    text = re.sub('[%s]' % re.escape(string.punctuation), '', text)\n",
    "    text = re.sub('\\n', '', text)\n",
    "    text = re.sub('[’“”…]', '', text)\n",
    "\n",
    "\n",
    "    # removing the stop-words\n",
    "    text_tokens = word_tokenize(text)\n",
    "    tokens_without_sw = [\n",
    "        word for word in text_tokens if not word in STOP_WORDS]\n",
    "    filtered_sentence = (\" \").join(tokens_without_sw)\n",
    "    text = filtered_sentence\n",
    "\n",
    "    return text\n",
    "\n",
    "\n",
    "if __name__ == \"__main__\":\n",
    "    max_rows = 1000  # 'None' to read whole file\n",
    "\n",
    "    dt = Islam['body'].apply(cleaning)\n",
    "\n",
    "    word_count = Counter(\" \".join(dt).split()).most_common(25)\n",
    "    word_frequency = pd.DataFrame(word_count, columns = ['Word', 'Frequency'])\n",
    "    print(word_frequency)"
   ]
  },
  {
   "cell_type": "code",
   "execution_count": 50,
   "id": "03c1b06e-34f6-439d-93b6-b05f7b677bc2",
   "metadata": {},
   "outputs": [
    {
     "name": "stdout",
     "output_type": "stream",
     "text": [
      "         Word  Frequency\n",
      "0         god         20\n",
      "1        pray         16\n",
      "2       bless         13\n",
      "3    children         12\n",
      "4        like         12\n",
      "5         kid         11\n",
      "6     missing         10\n",
      "7      prayer          9\n",
      "8      people          9\n",
      "9     praying          8\n",
      "10       kids          7\n",
      "11         go          7\n",
      "12       make          6\n",
      "13       post          6\n",
      "14       seen          6\n",
      "15      thats          6\n",
      "16  something          5\n",
      "17     social          5\n",
      "18        see          5\n",
      "19      would          5\n",
      "20        get          5\n",
      "21      child          5\n",
      "22        boy          5\n",
      "23       good          5\n",
      "24     little          5\n"
     ]
    }
   ],
   "source": [
    "\n",
    "STOP_WORDS = stopwords.words()\n",
    "\n",
    "def cleaning(text):\n",
    "    \"\"\"\n",
    "    Convert to lowercase.\n",
    "    Rremove URL links, special characters and punctuation.\n",
    "    Tokenize and remove stop words.\n",
    "    \"\"\"\n",
    "    text = text.lower()\n",
    "    text = re.sub('https?://\\S+|www\\.\\S+', '', text)\n",
    "    text = re.sub('<.*?>+', '', text)\n",
    "    text = re.sub('[%s]' % re.escape(string.punctuation), '', text)\n",
    "    text = re.sub('\\n', '', text)\n",
    "    text = re.sub('[’“”…]', '', text)\n",
    "\n",
    "\n",
    "    # removing the stop-words\n",
    "    text_tokens = word_tokenize(text)\n",
    "    tokens_without_sw = [\n",
    "        word for word in text_tokens if not word in STOP_WORDS]\n",
    "    filtered_sentence = (\" \").join(tokens_without_sw)\n",
    "    text = filtered_sentence\n",
    "\n",
    "    return text\n",
    "\n",
    "\n",
    "if __name__ == \"__main__\":\n",
    "    max_rows = 1000  # 'None' to read whole file\n",
    "\n",
    "    dt = Christianity['body'].apply(cleaning)\n",
    "\n",
    "    word_count = Counter(\" \".join(dt).split()).most_common(25)\n",
    "    word_frequency = pd.DataFrame(word_count, columns = ['Word', 'Frequency'])\n",
    "    print(word_frequency)"
   ]
  },
  {
   "cell_type": "code",
   "execution_count": 53,
   "id": "334c0ea4-81ca-49f2-ac4e-9b970fae0ab6",
   "metadata": {},
   "outputs": [
    {
     "name": "stdout",
     "output_type": "stream",
     "text": [
      "            Word  Frequency\n",
      "0         people          8\n",
      "1           like          7\n",
      "2           dont          6\n",
      "3   antisemitism          5\n",
      "4            day          5\n",
      "5          posts          4\n",
      "6           anti          4\n",
      "7         israel          4\n",
      "8           hate          4\n",
      "9            say          3\n",
      "10        reddit          3\n",
      "11        jewish          3\n",
      "12          isnt          3\n",
      "13          even          3\n",
      "14         would          3\n",
      "15          days          3\n",
      "16     downvoted          3\n",
      "17    commenting          3\n",
      "18     palestine          3\n",
      "19         stand          3\n",
      "20        report          3\n",
      "21         going          3\n",
      "22        notice          2\n",
      "23          post          2\n",
      "24      unfollow          2\n"
     ]
    }
   ],
   "source": [
    "\n",
    "STOP_WORDS = stopwords.words()\n",
    "\n",
    "def cleaning(text):\n",
    "    \"\"\"\n",
    "    Convert to lowercase.\n",
    "    Rremove URL links, special characters and punctuation.\n",
    "    Tokenize and remove stop words.\n",
    "    \"\"\"\n",
    "    text = text.lower()\n",
    "    text = re.sub('https?://\\S+|www\\.\\S+', '', text)\n",
    "    text = re.sub('<.*?>+', '', text)\n",
    "    text = re.sub('[%s]' % re.escape(string.punctuation), '', text)\n",
    "    text = re.sub('\\n', '', text)\n",
    "    text = re.sub('[’“”…]', '', text)\n",
    "\n",
    "\n",
    "    # removing the stop-words\n",
    "    text_tokens = word_tokenize(text)\n",
    "    tokens_without_sw = [\n",
    "        word for word in text_tokens if not word in STOP_WORDS]\n",
    "    filtered_sentence = (\" \").join(tokens_without_sw)\n",
    "    text = filtered_sentence\n",
    "\n",
    "    return text\n",
    "\n",
    "\n",
    "if __name__ == \"__main__\":\n",
    "    max_rows = 1000  # 'None' to read whole file\n",
    "\n",
    "    dt = Judaism['body'].apply(cleaning)\n",
    "\n",
    "    word_count = Counter(\" \".join(dt).split()).most_common(25)\n",
    "    word_frequency = pd.DataFrame(word_count, columns = ['Word', 'Frequency'])\n",
    "    print(word_frequency)\n",
    "    \n",
    "    wordcloud = WordCloud(min_word_length =3,\n",
    "                      background_color='white')"
   ]
  },
  {
   "cell_type": "code",
   "execution_count": 8,
   "id": "91027e2b-bd32-44ac-86ee-04474d9f7da0",
   "metadata": {},
   "outputs": [
    {
     "ename": "NameError",
     "evalue": "name 'Hinduism' is not defined",
     "output_type": "error",
     "traceback": [
      "\u001b[1;31m---------------------------------------------------------------------------\u001b[0m",
      "\u001b[1;31mNameError\u001b[0m                                 Traceback (most recent call last)",
      "\u001b[1;32m<ipython-input-8-6952c7003357>\u001b[0m in \u001b[0;36m<module>\u001b[1;34m\u001b[0m\n\u001b[0;32m     28\u001b[0m     \u001b[0mmax_rows\u001b[0m \u001b[1;33m=\u001b[0m \u001b[1;36m1000\u001b[0m  \u001b[1;31m# 'None' to read whole file\u001b[0m\u001b[1;33m\u001b[0m\u001b[1;33m\u001b[0m\u001b[0m\n\u001b[0;32m     29\u001b[0m \u001b[1;33m\u001b[0m\u001b[0m\n\u001b[1;32m---> 30\u001b[1;33m     \u001b[0mdt\u001b[0m \u001b[1;33m=\u001b[0m \u001b[0mHinduism\u001b[0m\u001b[1;33m[\u001b[0m\u001b[1;34m'body'\u001b[0m\u001b[1;33m]\u001b[0m\u001b[1;33m.\u001b[0m\u001b[0mapply\u001b[0m\u001b[1;33m(\u001b[0m\u001b[0mcleaning\u001b[0m\u001b[1;33m)\u001b[0m\u001b[1;33m\u001b[0m\u001b[1;33m\u001b[0m\u001b[0m\n\u001b[0m\u001b[0;32m     31\u001b[0m \u001b[1;33m\u001b[0m\u001b[0m\n\u001b[0;32m     32\u001b[0m     \u001b[0mword_count\u001b[0m \u001b[1;33m=\u001b[0m \u001b[0mCounter\u001b[0m\u001b[1;33m(\u001b[0m\u001b[1;34m\" \"\u001b[0m\u001b[1;33m.\u001b[0m\u001b[0mjoin\u001b[0m\u001b[1;33m(\u001b[0m\u001b[0mdt\u001b[0m\u001b[1;33m)\u001b[0m\u001b[1;33m.\u001b[0m\u001b[0msplit\u001b[0m\u001b[1;33m(\u001b[0m\u001b[1;33m)\u001b[0m\u001b[1;33m)\u001b[0m\u001b[1;33m.\u001b[0m\u001b[0mmost_common\u001b[0m\u001b[1;33m(\u001b[0m\u001b[1;36m25\u001b[0m\u001b[1;33m)\u001b[0m\u001b[1;33m\u001b[0m\u001b[1;33m\u001b[0m\u001b[0m\n",
      "\u001b[1;31mNameError\u001b[0m: name 'Hinduism' is not defined"
     ]
    }
   ],
   "source": [
    "\n",
    "STOP_WORDS = stopwords.words()\n",
    "\n",
    "def cleaning(text):\n",
    "    \"\"\"\n",
    "    Convert to lowercase.\n",
    "    Rremove URL links, special characters and punctuation.\n",
    "    Tokenize and remove stop words.\n",
    "    \"\"\"\n",
    "    text = text.lower()\n",
    "    text = re.sub('https?://\\S+|www\\.\\S+', '', text)\n",
    "    text = re.sub('<.*?>+', '', text)\n",
    "    text = re.sub('[%s]' % re.escape(string.punctuation), '', text)\n",
    "    text = re.sub('\\n', '', text)\n",
    "    text = re.sub('[’“”…]', '', text)\n",
    "\n",
    "\n",
    "    # removing the stop-words\n",
    "    text_tokens = word_tokenize(text)\n",
    "    tokens_without_sw = [\n",
    "        word for word in text_tokens if not word in STOP_WORDS]\n",
    "    filtered_sentence = (\" \").join(tokens_without_sw)\n",
    "    text = filtered_sentence\n",
    "\n",
    "    return text\n",
    "\n",
    "\n",
    "if __name__ == \"__main__\":\n",
    "    max_rows = 1000  # 'None' to read whole file\n",
    "\n",
    "    dt = Hinduism['body'].apply(cleaning)\n",
    "\n",
    "    word_count = Counter(\" \".join(dt).split()).most_common(25)\n",
    "    word_frequency = pd.DataFrame(word_count, columns = ['Word', 'Frequency'])\n",
    "    print(word_frequency)"
   ]
  },
  {
   "cell_type": "code",
   "execution_count": 123,
   "id": "34fa87de-4d2e-4ccd-bc8c-87f53794fec0",
   "metadata": {},
   "outputs": [
    {
     "name": "stdout",
     "output_type": "stream",
     "text": [
      "         Word  Frequency\n",
      "0     chicken         22\n",
      "1          bk         18\n",
      "2      burger         16\n",
      "3        king         15\n",
      "4    sandwich         15\n",
      "5        food         15\n",
      "6        good         13\n",
      "7   chickfila         11\n",
      "8      people         11\n",
      "9        like         10\n",
      "10       dont          9\n",
      "11      money          9\n",
      "12      lgbtq          8\n",
      "13        eat          8\n",
      "14     donate          8\n",
      "15      going          7\n",
      "16        get          6\n",
      "17       make          6\n",
      "18    support          6\n",
      "19    company          6\n",
      "20      thats          6\n",
      "21       hate          6\n",
      "22       know          6\n",
      "23      cause          6\n",
      "24        new          6\n"
     ]
    }
   ],
   "source": [
    "\n",
    "STOP_WORDS = stopwords.words()\n",
    "\n",
    "def cleaning(text):\n",
    "    \"\"\"\n",
    "    Convert to lowercase.\n",
    "    Rremove URL links, special characters and punctuation.\n",
    "    Tokenize and remove stop words.\n",
    "    \"\"\"\n",
    "    text = text.lower()\n",
    "    text = re.sub('https?://\\S+|www\\.\\S+', '', text)\n",
    "    text = re.sub('<.*?>+', '', text)\n",
    "    text = re.sub('[%s]' % re.escape(string.punctuation), '', text)\n",
    "    text = re.sub('\\n', '', text)\n",
    "    text = re.sub('[’“”…]', '', text)\n",
    "\n",
    "\n",
    "    # removing the stop-words\n",
    "    text_tokens = word_tokenize(text)\n",
    "    tokens_without_sw = [\n",
    "        word for word in text_tokens if not word in STOP_WORDS]\n",
    "    filtered_sentence = (\" \").join(tokens_without_sw)\n",
    "    text = filtered_sentence\n",
    "\n",
    "    return text\n",
    "\n",
    "\n",
    "if __name__ == \"__main__\":\n",
    "    max_rows = 1000  # 'None' to read whole file\n",
    "\n",
    "    dt = Atheism['body'].apply(cleaning)\n",
    "\n",
    "    word_count = Counter(\" \".join(dt).split()).most_common(25)\n",
    "    word_frequency = pd.DataFrame(word_count, columns = ['Word', 'Frequency'])\n",
    "    print(word_frequency)"
   ]
  },
  {
   "cell_type": "markdown",
   "id": "83048887",
   "metadata": {},
   "source": [
    "Calculating the discussion sentiments"
   ]
  },
  {
   "cell_type": "code",
   "execution_count": 147,
   "id": "e3d047b6-dd24-456a-b25d-e634c08e97ac",
   "metadata": {},
   "outputs": [],
   "source": [
    "# import SentimentIntensityAnalyzer class\n",
    "# from vaderSentiment.vaderSentiment module.\n",
    "from vaderSentiment.vaderSentiment import SentimentIntensityAnalyzer\n",
    "\n",
    "# function to print sentiments\n",
    "# of the sentence.\n",
    "def sentiment_scores(sentence):\n",
    "\n",
    "\t# Create a SentimentIntensityAnalyzer object.\n",
    "\tsid_obj = SentimentIntensityAnalyzer()\n",
    "\n",
    "\t# polarity_scores method of SentimentIntensityAnalyzer\n",
    "\t# object gives a sentiment dictionary.\n",
    "\t# which contains pos, neg, neu, and compound scores.\n",
    "\tsentiment_dict = sid_obj.polarity_scores(sentence)\n",
    "\t\n",
    "\tprint(\"Overall sentiment dictionary is : \", sentiment_dict)\n",
    "\tprint(\"discussion was rated as \", sentiment_dict['neg']*100, \"% Negative\")\n",
    "\tprint(\"discussion was rated as \", sentiment_dict['neu']*100, \"% Neutral\")\n",
    "\tprint(\"discussion was rated as \", sentiment_dict['pos']*100, \"% Positive\")\n",
    "\n",
    "\tprint(\"Discussion Overall Rated As\", end = \" \")\n",
    "\n",
    "\t# decide sentiment as positive, negative and neutral\n",
    "\tif sentiment_dict['compound'] >= 0.05 :\n",
    "\t\tprint(\"Positive\")\n",
    "\n",
    "\telif sentiment_dict['compound'] <= - 0.05 :\n",
    "\t\tprint(\"Negative\")\n",
    "\n",
    "\telse :\n",
    "\t\tprint(\"Neutral\")\n",
    "\n",
    "\n",
    "\n"
   ]
  },
  {
   "cell_type": "code",
   "execution_count": 148,
   "id": "d41823c4-8162-48f1-9a33-ab87ca9dc28e",
   "metadata": {},
   "outputs": [
    {
     "name": "stdout",
     "output_type": "stream",
     "text": [
      "Overall sentiment dictionary is :  {'neg': 0.196, 'neu': 0.674, 'pos': 0.13, 'compound': -0.9998}\n",
      "discussion was rated as  19.6 % Negative\n",
      "discussion was rated as  67.4 % Neutral\n",
      "discussion was rated as  13.0 % Positive\n",
      "Discussion Overall Rated As Negative\n"
     ]
    }
   ],
   "source": [
    "Islam_comments = ', '.join(Islam.body)\n",
    "sentiment_scores(Islam_comments)"
   ]
  },
  {
   "cell_type": "code",
   "execution_count": 149,
   "id": "784f007e-43b9-48ea-bf99-86cd47ad6990",
   "metadata": {},
   "outputs": [
    {
     "name": "stdout",
     "output_type": "stream",
     "text": [
      "Overall sentiment dictionary is :  {'neg': 0.111, 'neu': 0.629, 'pos': 0.261, 'compound': 0.9999}\n",
      "discussion was rated as  11.1 % Negative\n",
      "discussion was rated as  62.9 % Neutral\n",
      "discussion was rated as  26.1 % Positive\n",
      "Discussion Overall Rated As Positive\n"
     ]
    }
   ],
   "source": [
    "Christianity_comments = ', '.join(Christianity.body)\n",
    "sentiment_scores(Christianity_comments)"
   ]
  },
  {
   "cell_type": "code",
   "execution_count": 150,
   "id": "75397b82-fee0-4e83-9016-a18825e8b221",
   "metadata": {},
   "outputs": [
    {
     "name": "stdout",
     "output_type": "stream",
     "text": [
      "Overall sentiment dictionary is :  {'neg': 0.144, 'neu': 0.719, 'pos': 0.137, 'compound': -0.948}\n",
      "discussion was rated as  14.399999999999999 % Negative\n",
      "discussion was rated as  71.89999999999999 % Neutral\n",
      "discussion was rated as  13.700000000000001 % Positive\n",
      "Discussion Overall Rated As Negative\n"
     ]
    }
   ],
   "source": [
    "Judaism_comments = ', '.join(Judaism.body)\n",
    "sentiment_scores(Judaism_comments)"
   ]
  },
  {
   "cell_type": "code",
   "execution_count": 151,
   "id": "04692f32-0400-4609-a501-7084ee8255df",
   "metadata": {},
   "outputs": [
    {
     "name": "stdout",
     "output_type": "stream",
     "text": [
      "Overall sentiment dictionary is :  {'neg': 0.04, 'neu': 0.642, 'pos': 0.318, 'compound': 1.0}\n",
      "discussion was rated as  4.0 % Negative\n",
      "discussion was rated as  64.2 % Neutral\n",
      "discussion was rated as  31.8 % Positive\n",
      "Discussion Overall Rated As Positive\n"
     ]
    }
   ],
   "source": [
    "Hinduism_comments = ', '.join(Hinduism.body)\n",
    "sentiment_scores(Hinduism_comments)"
   ]
  },
  {
   "cell_type": "code",
   "execution_count": 152,
   "id": "b5efb929-c4cd-46dc-b02a-026fad9766f4",
   "metadata": {},
   "outputs": [
    {
     "name": "stdout",
     "output_type": "stream",
     "text": [
      "Overall sentiment dictionary is :  {'neg': 0.126, 'neu': 0.717, 'pos': 0.157, 'compound': 0.9983}\n",
      "discussion was rated as  12.6 % Negative\n",
      "discussion was rated as  71.7 % Neutral\n",
      "discussion was rated as  15.7 % Positive\n",
      "Discussion Overall Rated As Positive\n"
     ]
    }
   ],
   "source": [
    "Atheism_comments = ', '.join(Atheism.body)\n",
    "sentiment_scores(Atheism_comments)"
   ]
  }
 ],
 "metadata": {
  "kernelspec": {
   "display_name": "Python 3",
   "language": "python",
   "name": "python3"
  },
  "language_info": {
   "codemirror_mode": {
    "name": "ipython",
    "version": 3
   },
   "file_extension": ".py",
   "mimetype": "text/x-python",
   "name": "python",
   "nbconvert_exporter": "python",
   "pygments_lexer": "ipython3",
   "version": "3.8.8"
  },
  "toc": {
   "base_numbering": 1,
   "nav_menu": {},
   "number_sections": true,
   "sideBar": true,
   "skip_h1_title": false,
   "title_cell": "Table of Contents",
   "title_sidebar": "Contents",
   "toc_cell": false,
   "toc_position": {},
   "toc_section_display": true,
   "toc_window_display": false
  }
 },
 "nbformat": 4,
 "nbformat_minor": 5
}
